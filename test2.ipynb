{
 "cells": [
  {
   "cell_type": "code",
   "id": "initial_id",
   "metadata": {
    "collapsed": true,
    "ExecuteTime": {
     "end_time": "2025-01-28T21:00:55.282314Z",
     "start_time": "2025-01-28T21:00:55.262907Z"
    }
   },
   "source": [
    "import tqdm\n",
    "\n",
    "%load_ext autoreload\n",
    "%autoreload 2\n",
    "import sys\n",
    "import os\n",
    "print(os.environ['LD_LIBRARY_PATH'])\n",
    "sys.executable"
   ],
   "outputs": [
    {
     "name": "stdout",
     "output_type": "stream",
     "text": [
      "/usr/local/cuda-12.6/lib64:~/.virtualenvs/dopamine/lib/python3.10/site-packages/nvidia/cudnn//lib:/home/eop/.mujoco/mujoco210/bin:/usr/lib/nvidia\n"
     ]
    },
    {
     "data": {
      "text/plain": [
       "'/home/eop/code/CORL/venv/bin/python'"
      ]
     },
     "execution_count": 1,
     "metadata": {},
     "output_type": "execute_result"
    }
   ],
   "execution_count": 1
  },
  {
   "metadata": {
    "collapsed": false,
    "ExecuteTime": {
     "end_time": "2025-01-28T21:00:57.353901Z",
     "start_time": "2025-01-28T21:00:55.446973Z"
    }
   },
   "cell_type": "code",
   "source": [
    "import os\n",
    "import random\n",
    "import uuid\n",
    "from dataclasses import asdict, dataclass\n",
    "from pathlib import Path\n",
    "from typing import Any, Dict, List, Optional, Tuple, Union\n",
    "\n",
    "import d4rl\n",
    "import gym\n",
    "import numpy as np\n",
    "import pyrallis\n",
    "import torch\n",
    "import torch.nn as nn\n",
    "import torch.nn.functional as F\n",
    "import wandb\n",
    "from tqdm import tqdm, trange\n",
    "import multiprocessing\n",
    "\n",
    "multiprocessing.set_start_method('spawn', force=True)"
   ],
   "id": "4f4786aa65e3996d",
   "outputs": [
    {
     "name": "stderr",
     "output_type": "stream",
     "text": [
      "Warning: Flow failed to import. Set the environment variable D4RL_SUPPRESS_IMPORT_ERROR=1 to suppress this message.\n",
      "No module named 'flow'\n",
      "Warning: CARLA failed to import. Set the environment variable D4RL_SUPPRESS_IMPORT_ERROR=1 to suppress this message.\n",
      "No module named 'carla'\n",
      "pybullet build time: Nov 28 2023 23:45:17\n"
     ]
    }
   ],
   "execution_count": 2
  },
  {
   "cell_type": "code",
   "source": [
    "env_name = 'halfcheetah-medium-v2'\n",
    "env = gym.make(env_name)\n",
    "dataset = env.get_dataset()\n",
    "torch.set_default_device('cuda')"
   ],
   "metadata": {
    "collapsed": false,
    "ExecuteTime": {
     "end_time": "2025-01-28T21:01:00.036953Z",
     "start_time": "2025-01-28T21:00:57.361246Z"
    }
   },
   "id": "6ffc9688bf8b4a8a",
   "outputs": [
    {
     "name": "stderr",
     "output_type": "stream",
     "text": [
      "/home/eop/code/CORL/venv/lib/python3.10/site-packages/gym/spaces/box.py:84: UserWarning: \u001B[33mWARN: Box bound precision lowered by casting to float32\u001B[0m\n",
      "  logger.warn(f\"Box bound precision lowered by casting to {self.dtype}\")\n",
      "load datafile: 100%|████████████████████████████████████████████████████████████████████| 21/21 [00:02<00:00,  8.03it/s]\n"
     ]
    }
   ],
   "execution_count": 3
  },
  {
   "cell_type": "code",
   "source": [
    "from algorithms.offline.knn import load_d4rl_trajectories"
   ],
   "metadata": {
    "collapsed": false,
    "ExecuteTime": {
     "end_time": "2025-01-28T21:01:00.172282Z",
     "start_time": "2025-01-28T21:01:00.127295Z"
    }
   },
   "id": "7b3b44e1b24b2108",
   "outputs": [],
   "execution_count": 4
  },
  {
   "cell_type": "code",
   "source": [
    "trajs, infos = load_d4rl_trajectories(env_name)\n",
    "obs_shape = trajs[0]['observations'].shape[1]\n",
    "action_shape=trajs[0]['actions'].shape[1]\n",
    "obs_mean = infos['obs_mean']\n",
    "obs_std = infos['obs_std']\n",
    "print(obs_shape, action_shape)"
   ],
   "metadata": {
    "collapsed": false,
    "ExecuteTime": {
     "end_time": "2025-01-28T21:01:03.899441Z",
     "start_time": "2025-01-28T21:01:00.190475Z"
    }
   },
   "id": "93fabbdff1f6bf34",
   "outputs": [
    {
     "name": "stderr",
     "output_type": "stream",
     "text": [
      "/home/eop/code/CORL/venv/lib/python3.10/site-packages/gym/spaces/box.py:84: UserWarning: \u001B[33mWARN: Box bound precision lowered by casting to float32\u001B[0m\n",
      "  logger.warn(f\"Box bound precision lowered by casting to {self.dtype}\")\n",
      "load datafile: 100%|████████████████████████████████████████████████████████████████████| 21/21 [00:01<00:00, 11.23it/s]\n"
     ]
    },
    {
     "data": {
      "text/plain": [
       "Processing trajectories:   0%|          | 0/1000000 [00:00<?, ?it/s]"
      ],
      "application/vnd.jupyter.widget-view+json": {
       "version_major": 2,
       "version_minor": 0,
       "model_id": "d969a2b83102428ebb27aca48c95a3b7"
      },
      "application/json": {
       "n": 0,
       "total": 1000000,
       "elapsed": 0.002984285354614258,
       "ncols": null,
       "nrows": 30,
       "prefix": "Processing trajectories",
       "ascii": false,
       "unit": "it",
       "unit_scale": false,
       "rate": null,
       "bar_format": null,
       "postfix": null,
       "unit_divisor": 1000,
       "initial": 0,
       "colour": null
      }
     },
     "metadata": {},
     "output_type": "display_data"
    },
    {
     "name": "stdout",
     "output_type": "stream",
     "text": [
      "17 6\n"
     ]
    }
   ],
   "execution_count": 5
  },
  {
   "cell_type": "code",
   "source": [
    "infos"
   ],
   "metadata": {
    "collapsed": false,
    "ExecuteTime": {
     "end_time": "2025-01-28T21:01:03.956484Z",
     "start_time": "2025-01-28T21:01:03.937289Z"
    }
   },
   "id": "534c9ba88b08d594",
   "outputs": [
    {
     "data": {
      "text/plain": [
       "{'obs_mean': array([[-0.06845774,  0.01641455, -0.18354906, -0.27624607, -0.34061527,\n",
       "         -0.09339716, -0.21321271, -0.08774239,  5.1730075 , -0.04275195,\n",
       "         -0.03610836,  0.14053793,  0.06049833,  0.09550975,  0.067391  ,\n",
       "          0.00562739,  0.01338279]], dtype=float32),\n",
       " 'obs_std': array([[ 0.07472999,  0.30234998,  0.3020731 ,  0.34417078,  0.17619242,\n",
       "          0.5072056 ,  0.25670078,  0.32948127,  1.2574149 ,  0.7600542 ,\n",
       "          1.9800916 ,  6.5653625 ,  7.4663677 ,  4.472223  , 10.566964  ,\n",
       "          5.6719327 ,  7.498259  ]], dtype=float32),\n",
       " 'reward_mean': array([4.7703357], dtype=float32),\n",
       " 'reward_std': array([1.2101753], dtype=float32),\n",
       " 'traj_lens': array([1000, 1000, 1000, 1000, 1000, 1000, 1000, 1000, 1000, 1000, 1000,\n",
       "        1000, 1000, 1000, 1000, 1000, 1000, 1000, 1000, 1000, 1000, 1000,\n",
       "        1000, 1000, 1000, 1000, 1000, 1000, 1000, 1000, 1000, 1000, 1000,\n",
       "        1000, 1000, 1000, 1000, 1000, 1000, 1000, 1000, 1000, 1000, 1000,\n",
       "        1000, 1000, 1000, 1000, 1000, 1000, 1000, 1000, 1000, 1000, 1000,\n",
       "        1000, 1000, 1000, 1000, 1000, 1000, 1000, 1000, 1000, 1000, 1000,\n",
       "        1000, 1000, 1000, 1000, 1000, 1000, 1000, 1000, 1000, 1000, 1000,\n",
       "        1000, 1000, 1000, 1000, 1000, 1000, 1000, 1000, 1000, 1000, 1000,\n",
       "        1000, 1000, 1000, 1000, 1000, 1000, 1000, 1000, 1000, 1000, 1000,\n",
       "        1000, 1000, 1000, 1000, 1000, 1000, 1000, 1000, 1000, 1000, 1000,\n",
       "        1000, 1000, 1000, 1000, 1000, 1000, 1000, 1000, 1000, 1000, 1000,\n",
       "        1000, 1000, 1000, 1000, 1000, 1000, 1000, 1000, 1000, 1000, 1000,\n",
       "        1000, 1000, 1000, 1000, 1000, 1000, 1000, 1000, 1000, 1000, 1000,\n",
       "        1000, 1000, 1000, 1000, 1000, 1000, 1000, 1000, 1000, 1000, 1000,\n",
       "        1000, 1000, 1000, 1000, 1000, 1000, 1000, 1000, 1000, 1000, 1000,\n",
       "        1000, 1000, 1000, 1000, 1000, 1000, 1000, 1000, 1000, 1000, 1000,\n",
       "        1000, 1000, 1000, 1000, 1000, 1000, 1000, 1000, 1000, 1000, 1000,\n",
       "        1000, 1000, 1000, 1000, 1000, 1000, 1000, 1000, 1000, 1000, 1000,\n",
       "        1000, 1000, 1000, 1000, 1000, 1000, 1000, 1000, 1000, 1000, 1000,\n",
       "        1000, 1000, 1000, 1000, 1000, 1000, 1000, 1000, 1000, 1000, 1000,\n",
       "        1000, 1000, 1000, 1000, 1000, 1000, 1000, 1000, 1000, 1000, 1000,\n",
       "        1000, 1000, 1000, 1000, 1000, 1000, 1000, 1000, 1000, 1000, 1000,\n",
       "        1000, 1000, 1000, 1000, 1000, 1000, 1000, 1000, 1000, 1000, 1000,\n",
       "        1000, 1000, 1000, 1000, 1000, 1000, 1000, 1000, 1000, 1000, 1000,\n",
       "        1000, 1000, 1000, 1000, 1000, 1000, 1000, 1000, 1000, 1000, 1000,\n",
       "        1000, 1000, 1000, 1000, 1000, 1000, 1000, 1000, 1000, 1000, 1000,\n",
       "        1000, 1000, 1000, 1000, 1000, 1000, 1000, 1000, 1000, 1000, 1000,\n",
       "        1000, 1000, 1000, 1000, 1000, 1000, 1000, 1000, 1000, 1000, 1000,\n",
       "        1000, 1000, 1000, 1000, 1000, 1000, 1000, 1000, 1000, 1000, 1000,\n",
       "        1000, 1000, 1000, 1000, 1000, 1000, 1000, 1000, 1000, 1000, 1000,\n",
       "        1000, 1000, 1000, 1000, 1000, 1000, 1000, 1000, 1000, 1000, 1000,\n",
       "        1000, 1000, 1000, 1000, 1000, 1000, 1000, 1000, 1000, 1000, 1000,\n",
       "        1000, 1000, 1000, 1000, 1000, 1000, 1000, 1000, 1000, 1000, 1000,\n",
       "        1000, 1000, 1000, 1000, 1000, 1000, 1000, 1000, 1000, 1000, 1000,\n",
       "        1000, 1000, 1000, 1000, 1000, 1000, 1000, 1000, 1000, 1000, 1000,\n",
       "        1000, 1000, 1000, 1000, 1000, 1000, 1000, 1000, 1000, 1000, 1000,\n",
       "        1000, 1000, 1000, 1000, 1000, 1000, 1000, 1000, 1000, 1000, 1000,\n",
       "        1000, 1000, 1000, 1000, 1000, 1000, 1000, 1000, 1000, 1000, 1000,\n",
       "        1000, 1000, 1000, 1000, 1000, 1000, 1000, 1000, 1000, 1000, 1000,\n",
       "        1000, 1000, 1000, 1000, 1000, 1000, 1000, 1000, 1000, 1000, 1000,\n",
       "        1000, 1000, 1000, 1000, 1000, 1000, 1000, 1000, 1000, 1000, 1000,\n",
       "        1000, 1000, 1000, 1000, 1000, 1000, 1000, 1000, 1000, 1000, 1000,\n",
       "        1000, 1000, 1000, 1000, 1000, 1000, 1000, 1000, 1000, 1000, 1000,\n",
       "        1000, 1000, 1000, 1000, 1000, 1000, 1000, 1000, 1000, 1000, 1000,\n",
       "        1000, 1000, 1000, 1000, 1000, 1000, 1000, 1000, 1000, 1000, 1000,\n",
       "        1000, 1000, 1000, 1000, 1000, 1000, 1000, 1000, 1000, 1000, 1000,\n",
       "        1000, 1000, 1000, 1000, 1000, 1000, 1000, 1000, 1000, 1000, 1000,\n",
       "        1000, 1000, 1000, 1000, 1000, 1000, 1000, 1000, 1000, 1000, 1000,\n",
       "        1000, 1000, 1000, 1000, 1000, 1000, 1000, 1000, 1000, 1000, 1000,\n",
       "        1000, 1000, 1000, 1000, 1000, 1000, 1000, 1000, 1000, 1000, 1000,\n",
       "        1000, 1000, 1000, 1000, 1000, 1000, 1000, 1000, 1000, 1000, 1000,\n",
       "        1000, 1000, 1000, 1000, 1000, 1000, 1000, 1000, 1000, 1000, 1000,\n",
       "        1000, 1000, 1000, 1000, 1000, 1000, 1000, 1000, 1000, 1000, 1000,\n",
       "        1000, 1000, 1000, 1000, 1000, 1000, 1000, 1000, 1000, 1000, 1000,\n",
       "        1000, 1000, 1000, 1000, 1000, 1000, 1000, 1000, 1000, 1000, 1000,\n",
       "        1000, 1000, 1000, 1000, 1000, 1000, 1000, 1000, 1000, 1000, 1000,\n",
       "        1000, 1000, 1000, 1000, 1000, 1000, 1000, 1000, 1000, 1000, 1000,\n",
       "        1000, 1000, 1000, 1000, 1000, 1000, 1000, 1000, 1000, 1000, 1000,\n",
       "        1000, 1000, 1000, 1000, 1000, 1000, 1000, 1000, 1000, 1000, 1000,\n",
       "        1000, 1000, 1000, 1000, 1000, 1000, 1000, 1000, 1000, 1000, 1000,\n",
       "        1000, 1000, 1000, 1000, 1000, 1000, 1000, 1000, 1000, 1000, 1000,\n",
       "        1000, 1000, 1000, 1000, 1000, 1000, 1000, 1000, 1000, 1000, 1000,\n",
       "        1000, 1000, 1000, 1000, 1000, 1000, 1000, 1000, 1000, 1000, 1000,\n",
       "        1000, 1000, 1000, 1000, 1000, 1000, 1000, 1000, 1000, 1000, 1000,\n",
       "        1000, 1000, 1000, 1000, 1000, 1000, 1000, 1000, 1000, 1000, 1000,\n",
       "        1000, 1000, 1000, 1000, 1000, 1000, 1000, 1000, 1000, 1000, 1000,\n",
       "        1000, 1000, 1000, 1000, 1000, 1000, 1000, 1000, 1000, 1000, 1000,\n",
       "        1000, 1000, 1000, 1000, 1000, 1000, 1000, 1000, 1000, 1000, 1000,\n",
       "        1000, 1000, 1000, 1000, 1000, 1000, 1000, 1000, 1000, 1000, 1000,\n",
       "        1000, 1000, 1000, 1000, 1000, 1000, 1000, 1000, 1000, 1000, 1000,\n",
       "        1000, 1000, 1000, 1000, 1000, 1000, 1000, 1000, 1000, 1000, 1000,\n",
       "        1000, 1000, 1000, 1000, 1000, 1000, 1000, 1000, 1000, 1000, 1000,\n",
       "        1000, 1000, 1000, 1000, 1000, 1000, 1000, 1000, 1000, 1000, 1000,\n",
       "        1000, 1000, 1000, 1000, 1000, 1000, 1000, 1000, 1000, 1000, 1000,\n",
       "        1000, 1000, 1000, 1000, 1000, 1000, 1000, 1000, 1000, 1000, 1000,\n",
       "        1000, 1000, 1000, 1000, 1000, 1000, 1000, 1000, 1000, 1000, 1000,\n",
       "        1000, 1000, 1000, 1000, 1000, 1000, 1000, 1000, 1000, 1000, 1000,\n",
       "        1000, 1000, 1000, 1000, 1000, 1000, 1000, 1000, 1000, 1000, 1000,\n",
       "        1000, 1000, 1000, 1000, 1000, 1000, 1000, 1000, 1000, 1000, 1000,\n",
       "        1000, 1000, 1000, 1000, 1000, 1000, 1000, 1000, 1000, 1000, 1000,\n",
       "        1000, 1000, 1000, 1000, 1000, 1000, 1000, 1000, 1000, 1000, 1000,\n",
       "        1000, 1000, 1000, 1000, 1000, 1000, 1000, 1000, 1000, 1000, 1000,\n",
       "        1000, 1000, 1000, 1000, 1000, 1000, 1000, 1000, 1000, 1000, 1000,\n",
       "        1000, 1000, 1000, 1000, 1000, 1000, 1000, 1000, 1000, 1000, 1000,\n",
       "        1000, 1000, 1000, 1000, 1000, 1000, 1000, 1000, 1000, 1000, 1000,\n",
       "        1000, 1000, 1000, 1000, 1000, 1000, 1000, 1000, 1000, 1000, 1000,\n",
       "        1000, 1000, 1000, 1000, 1000, 1000, 1000, 1000, 1000, 1000, 1000,\n",
       "        1000, 1000, 1000, 1000, 1000, 1000, 1000, 1000, 1000, 1000, 1000,\n",
       "        1000, 1000, 1000, 1000, 1000, 1000, 1000, 1000, 1000, 1000, 1000,\n",
       "        1000, 1000, 1000, 1000, 1000, 1000, 1000, 1000, 1000, 1000, 1000,\n",
       "        1000, 1000, 1000, 1000, 1000, 1000, 1000, 1000, 1000, 1000])}"
      ]
     },
     "execution_count": 6,
     "metadata": {},
     "output_type": "execute_result"
    }
   ],
   "execution_count": 6
  },
  {
   "cell_type": "code",
   "source": [
    "class QDataset(torch.utils.data.Dataset):\n",
    "    \n",
    "    def __init__(self, trajs, infos):\n",
    "        self.trajs = trajs\n",
    "        self.infos = infos\n",
    "        self.obs_mean = infos['obs_mean']\n",
    "        self.obs_std = infos['obs_std']\n",
    "\n",
    "        self.rewards_mean = infos['reward_mean']\n",
    "        self.rewards_std = infos['reward_std']\n",
    "\n",
    "        self.traj_lens = np.array([traj['observations'].shape[0] for traj in trajs])\n",
    "        self.next_state_distance_min = 1\n",
    "        self.next_state_distance_max = 5\n",
    "        self.next_state_distance_max_tensor = torch.tensor(self.next_state_distance_max, dtype=torch.float32)\n",
    "        for traj in trajs:\n",
    "            traj['observations'] = (traj['observations'] - self.obs_mean) / self.obs_std\n",
    "            traj['rewards'] = (traj['rewards'] - self.rewards_mean) / self.rewards_std\n",
    "\n",
    "        self.qdataset = dict()\n",
    "        self.qdataset[\"observations\"] = np.concatenate([traj[\"observations\"][:-self.next_state_distance_max] for i, traj in enumerate(trajs) if self.traj_lens[i] > self.next_state_distance_max], axis=0)\n",
    "        self.qdataset[\"actions\"] = np.concatenate([traj[\"actions\"][:-self.next_state_distance_max] for traj in trajs], axis=0)\n",
    "        self.max_traj_len = max(self.traj_lens)\n",
    "        self.reshuffle_next_state_distance()\n",
    "\n",
    "    def reshuffle_next_state_distance(self):\n",
    "        next_state_distance = np.random.randint(self.next_state_distance_min, self.next_state_distance_max, (len(self.trajs),self.max_traj_len))\n",
    "        next_index = np.arange(self.max_traj_len) + next_state_distance\n",
    "        self.qdataset[\"next_observations\"] = np.concatenate([traj[\"observations\"][next_index[i][:self.traj_lens[i]-self.next_state_distance_max]] for i, traj in enumerate(self.trajs) if self.traj_lens[i] > self.next_state_distance_max], axis=0)\n",
    "        self.qdataset[\"distances_int\"] = np.concatenate([next_state_distance[i][:self.traj_lens[i]-self.next_state_distance_max] for i, traj in enumerate(self.trajs) if self.traj_lens[i] > self.next_state_distance_max])\n",
    "        self.qdataset[\"distances\"] = self.qdataset[\"distances_int\"].astype(np.float32)\n",
    "\n",
    "    def __len__(self):\n",
    "        return len(self.qdataset[\"observations\"])\n",
    "\n",
    "    def __getitem__(self, idx):\n",
    "        return {\n",
    "            'observations': self.qdataset[\"observations\"][idx],\n",
    "            'actions': self.qdataset[\"actions\"][idx],\n",
    "            'next_observations': self.qdataset[\"next_observations\"][idx],\n",
    "            'distances': self.qdataset[\"distances\"][idx],\n",
    "        }\n",
    "\n",
    "all_data = QDataset(trajs, infos)"
   ],
   "metadata": {
    "collapsed": false,
    "ExecuteTime": {
     "end_time": "2025-01-28T21:01:04.719817Z",
     "start_time": "2025-01-28T21:01:04.065346Z"
    }
   },
   "id": "7d6f202e3337b2df",
   "outputs": [],
   "execution_count": 7
  },
  {
   "metadata": {
    "ExecuteTime": {
     "end_time": "2025-01-28T21:01:04.757914Z",
     "start_time": "2025-01-28T21:01:04.738743Z"
    }
   },
   "cell_type": "code",
   "source": [
    "ind = 10\n",
    "assert (all_data.qdataset['observations'][ind + all_data.qdataset['distances_int'][ind]] == all_data.qdataset['next_observations'][ind]).all()"
   ],
   "id": "eb81551d88212f43",
   "outputs": [],
   "execution_count": 8
  },
  {
   "cell_type": "code",
   "source": [
    "class Encoder(nn.Module):\n",
    "    def __init__(self, obs_shape: int, hidden_dim: int, latent_dim: int):\n",
    "        super(Encoder, self).__init__()\n",
    "        self.fc1 = nn.Linear(obs_shape, hidden_dim)\n",
    "        self.fc2 = nn.Linear(hidden_dim, hidden_dim)\n",
    "        self.fc3 = nn.Linear(hidden_dim, hidden_dim)\n",
    "        self.fc4 = nn.Linear(hidden_dim, latent_dim)\n",
    "        self.ln1 = nn.LayerNorm(hidden_dim)\n",
    "        self.ln2 = nn.LayerNorm(hidden_dim)\n",
    "        self.ln3 = nn.LayerNorm(hidden_dim)\n",
    "    \n",
    "    def forward(self, x):\n",
    "        x = F.relu(self.fc1(x))\n",
    "        x = self.ln1(x)\n",
    "        x = F.relu(self.fc2(x))\n",
    "        x = self.ln2(x)\n",
    "        # x = F.relu(self.fc3(x))\n",
    "        # x = self.ln3(x)\n",
    "        return self.fc4(x)\n",
    "\n",
    "class InvModel(nn.Module):\n",
    "    def __init__(self, latent_dim: int, hidden_dim: int, action_shape: int):\n",
    "        super(InvModel, self).__init__()\n",
    "        self.fc1 = nn.Linear(latent_dim*2, hidden_dim)\n",
    "        self.fc2 = nn.Linear(hidden_dim, hidden_dim)\n",
    "        self.fc3 = nn.Linear(hidden_dim, hidden_dim)\n",
    "        self.fc4 = nn.Linear(hidden_dim, action_shape)\n",
    "        self.ln1 = nn.LayerNorm(hidden_dim)\n",
    "        self.ln2 = nn.LayerNorm(hidden_dim)\n",
    "        self.ln3 = nn.LayerNorm(hidden_dim)\n",
    "\n",
    "    def forward(self, x):\n",
    "        x = F.relu(self.fc1(x))\n",
    "        x = self.ln1(x)\n",
    "        x = F.relu(self.fc2(x))\n",
    "        x = self.ln2(x)\n",
    "        # x = F.relu(self.fc3(x))\n",
    "        # x = self.ln3(x)\n",
    "        return self.fc4(x)\n",
    "\n",
    "hidden_dim = 128\n",
    "latent_dim = 16\n",
    "encoder = Encoder(obs_shape=obs_shape, hidden_dim=hidden_dim, latent_dim=latent_dim)\n",
    "target_encoder = Encoder(obs_shape=obs_shape, hidden_dim=hidden_dim, latent_dim=latent_dim)\n",
    "inv_model = InvModel(latent_dim=latent_dim, hidden_dim=hidden_dim, action_shape=action_shape)"
   ],
   "metadata": {
    "collapsed": false,
    "ExecuteTime": {
     "end_time": "2025-01-28T21:01:04.827235Z",
     "start_time": "2025-01-28T21:01:04.781062Z"
    }
   },
   "id": "1af456c6243c75f6",
   "outputs": [],
   "execution_count": 9
  },
  {
   "cell_type": "code",
   "source": [
    "from torch.utils.data import DataLoader\n",
    "from torch.optim import AdamW\n",
    "from torch.optim.lr_scheduler import LambdaLR\n",
    "\n",
    "batch_size = 256\n",
    "target_ema = 0.995\n",
    "epochs = 5\n",
    "train_size = int(0.8 * len(trajs))\n",
    "indices = np.random.permutation(len(trajs))\n",
    "trajs_np = np.array(trajs)\n",
    "train_idx, val_idx = indices[:train_size], indices[train_size:]\n",
    "dataset, val_set = QDataset(trajs_np[train_idx], infos), QDataset(trajs_np[val_idx], infos)\n",
    "\n",
    "dataloader = DataLoader(dataset, batch_size=batch_size, shuffle=True, generator=torch.Generator(device='cuda'))\n",
    "optimizer = AdamW(list(encoder.parameters()) + list(inv_model.parameters()), lr=1e-3)\n",
    "\n",
    "def distance(z, z_next):\n",
    "    return (z - z_next).norm(p=2, dim=-1)\n",
    "\n",
    "def distance_loss(z, z_next, dist):\n",
    "    distance_pred = distance(z, z_next)\n",
    "    return F.mse_loss(distance_pred, dist)\n",
    "\n",
    "def contrastive_loss(z, random_z):\n",
    "    distance_pred = distance(z, random_z)\n",
    "    return (distance_pred - all_data.next_state_distance_max_tensor.expand_as(distance_pred))[distance_pred < all_data.next_state_distance_max_tensor].pow(2).mean()\n",
    "\n",
    "def train_step(batch):\n",
    "    obs = batch['observations']\n",
    "    act = batch['actions']\n",
    "    next_obs = batch['next_observations']\n",
    "    distances = batch['distances']\n",
    "\n",
    "    z = encoder(obs)\n",
    "    with torch.no_grad():\n",
    "        z_next = target_encoder(next_obs)\n",
    "\n",
    "    action_pred = inv_model(torch.cat([z, z_next], dim=-1))\n",
    "    model_loss = distance_loss(z, z_next, distances)\n",
    "    contrastive = contrastive_loss(z, z_next[torch.randperm(len(z))])\n",
    "    action_loss = F.mse_loss(action_pred, act)\n",
    "    loss = model_loss + action_loss + contrastive\n",
    "    \n",
    "    optimizer.zero_grad()\n",
    "    loss.backward()\n",
    "    optimizer.step()\n",
    "    \n",
    "    # Update target encoder with exponential moving average\n",
    "    for param, target_param in zip(encoder.parameters(), target_encoder.parameters()):\n",
    "        target_param.data = target_param.data * target_ema + param.data * (1.0 - target_ema)\n",
    "    \n",
    "    return loss.item(), model_loss.item(), action_loss.item(), contrastive.item()"
   ],
   "metadata": {
    "ExecuteTime": {
     "end_time": "2025-01-28T21:01:05.517397Z",
     "start_time": "2025-01-28T21:01:04.845960Z"
    }
   },
   "id": "9b61d159d65860d1",
   "outputs": [],
   "execution_count": 10
  },
  {
   "metadata": {
    "collapsed": false,
    "ExecuteTime": {
     "end_time": "2025-01-28T21:12:07.282662Z",
     "start_time": "2025-01-28T21:01:05.547748Z"
    }
   },
   "cell_type": "code",
   "source": [
    "losses = []\n",
    "model_losses = []\n",
    "action_losses = []\n",
    "contrastive_losses = []\n",
    "for epoch in range(epochs):\n",
    "    print(f\"Epoch {epoch}\")\n",
    "    for batch in tqdm(dataloader):\n",
    "        loss, model_loss, action_loss, contrastive = train_step(batch)\n",
    "        losses.append(loss)\n",
    "        model_losses.append(model_loss)\n",
    "        action_losses.append(action_loss)\n",
    "        contrastive_losses.append(contrastive)\n",
    "    dataset.reshuffle_next_state_distance()\n"
   ],
   "id": "e5cc62c12f61de52",
   "outputs": [
    {
     "name": "stdout",
     "output_type": "stream",
     "text": [
      "Epoch 0\n"
     ]
    },
    {
     "name": "stderr",
     "output_type": "stream",
     "text": [
      "100%|███████████████████████████████████████████████████████████████████████████████| 3110/3110 [02:10<00:00, 23.86it/s]\n"
     ]
    },
    {
     "name": "stdout",
     "output_type": "stream",
     "text": [
      "Epoch 1\n"
     ]
    },
    {
     "name": "stderr",
     "output_type": "stream",
     "text": [
      "100%|███████████████████████████████████████████████████████████████████████████████| 3110/3110 [02:14<00:00, 23.17it/s]\n"
     ]
    },
    {
     "name": "stdout",
     "output_type": "stream",
     "text": [
      "Epoch 2\n"
     ]
    },
    {
     "name": "stderr",
     "output_type": "stream",
     "text": [
      "100%|███████████████████████████████████████████████████████████████████████████████| 3110/3110 [02:14<00:00, 23.17it/s]\n"
     ]
    },
    {
     "name": "stdout",
     "output_type": "stream",
     "text": [
      "Epoch 3\n"
     ]
    },
    {
     "name": "stderr",
     "output_type": "stream",
     "text": [
      "100%|███████████████████████████████████████████████████████████████████████████████| 3110/3110 [02:11<00:00, 23.57it/s]\n"
     ]
    },
    {
     "name": "stdout",
     "output_type": "stream",
     "text": [
      "Epoch 4\n"
     ]
    },
    {
     "name": "stderr",
     "output_type": "stream",
     "text": [
      "100%|███████████████████████████████████████████████████████████████████████████████| 3110/3110 [02:10<00:00, 23.80it/s]\n"
     ]
    }
   ],
   "execution_count": 11
  },
  {
   "metadata": {
    "ExecuteTime": {
     "end_time": "2025-01-28T21:12:08.438698Z",
     "start_time": "2025-01-28T21:12:07.332328Z"
    }
   },
   "cell_type": "code",
   "source": [
    "import matplotlib.pyplot as plt\n",
    "plt.plot(losses, label='total')\n",
    "plt.legend()\n",
    "plt.show()\n",
    "\n",
    "\n",
    "plt.plot(model_losses[100:], label='model')\n",
    "plt.legend()\n",
    "plt.show()\n",
    "\n",
    "plt.plot(action_losses, label='action')\n",
    "plt.legend()\n",
    "plt.show()\n",
    "\n",
    "plt.plot(contrastive_losses, label='contrastive')\n",
    "plt.legend()\n",
    "plt.show()"
   ],
   "id": "74a6e72258b6f617",
   "outputs": [
    {
     "data": {
      "text/plain": [
       "<Figure size 640x480 with 1 Axes>"
      ],
      "image/png": "[encoded data removed]"
     },
     "metadata": {},
     "output_type": "display_data"
    },
    {
     "data": {
      "text/plain": [
       "<Figure size 640x480 with 1 Axes>"
      ],
      "image/png": "[encoded data removed]"
     },
     "metadata": {},
     "output_type": "display_data"
    },
    {
     "data": {
      "text/plain": [
       "<Figure size 640x480 with 1 Axes>"
      ],
      "image/png": "[encoded data removed]"
     },
     "metadata": {},
     "output_type": "display_data"
    },
    {
     "data": {
      "text/plain": [
       "<Figure size 640x480 with 1 Axes>"
      ],
      "image/png": "[encoded data removed]"
     },
     "metadata": {},
     "output_type": "display_data"
    }
   ],
   "execution_count": 12
  },
  {
   "metadata": {
    "ExecuteTime": {
     "end_time": "2025-01-28T21:15:25.400880Z",
     "start_time": "2025-01-28T21:12:08.444596Z"
    }
   },
   "cell_type": "code",
   "source": [
    "# validate that model is accurate\n",
    "\n",
    "val_set_loader = DataLoader(val_set, batch_size=batch_size, shuffle=True, generator=torch.Generator(device='cuda'))\n",
    "\n",
    "\n",
    "def plot_hists(loader):\n",
    "    model_loss_total = 0\n",
    "    model_loss_shuffle = 0\n",
    "    bins = np.linspace(0, all_data.next_state_distance_max + 2, 100, endpoint=True)\n",
    "    bins = np.concatenate([bins, [10000]])\n",
    "    hists = dict()\n",
    "    with torch.no_grad():\n",
    "        for batch in loader:\n",
    "            z = encoder(batch['observations'])\n",
    "            z_next = encoder(batch['next_observations'])\n",
    "            distances = batch['distances']\n",
    "            distances_pred = distance(z, z_next)\n",
    "            # compute histogram of distances\n",
    "            for i in range(all_data.next_state_distance_min, all_data.next_state_distance_max+1):\n",
    "                hists[i] = hists.get(i, np.zeros_like(bins[:-1]))\n",
    "                hists[i] += np.histogram(distances_pred[distances == i].cpu().numpy(), bins=bins)[0]\n",
    "            hists[\"rand\"] = hists.get(\"rand\", np.zeros_like(bins[:-1]))\n",
    "            hists[\"rand\"] += np.histogram(distance(z, z_next[torch.randperm(len(z))]).cpu().numpy(), bins=bins)[0]\n",
    "\n",
    "            model_loss_total += distance_loss(z, z_next, distances)\n",
    "            model_loss_shuffle += distance_loss(z, z_next[torch.randperm(len(z))], distances)\n",
    "    print(\n",
    "        f\"Model loss: {model_loss_total / len(loader)}\\n\"\n",
    "        f\"Model loss (shuffle): {model_loss_shuffle / len(loader)}\"\n",
    "    )\n",
    "\n",
    "    plotting_bins = np.copy(bins)\n",
    "    plotting_bins[-1] = plotting_bins[-2] + 1\n",
    "    for key, val in hists.items():\n",
    "        if key in set(range(5, 1000)):\n",
    "            continue\n",
    "        val /= np.sum(val)\n",
    "        plt.stairs(val, plotting_bins, label=f\"Distance {key}\")\n",
    "    plt.legend()\n",
    "    plt.ylim(0, 0.1)\n",
    "    plt.show()\n",
    "\n",
    "plot_hists(val_set_loader)\n",
    "plot_hists(dataloader)"
   ],
   "id": "d99e7271b580a7ec",
   "outputs": [
    {
     "name": "stdout",
     "output_type": "stream",
     "text": [
      "Model loss: 2.8152453899383545\n",
      "Model loss (shuffle): 24.58843231201172\n"
     ]
    },
    {
     "data": {
      "text/plain": [
       "<Figure size 640x480 with 1 Axes>"
      ],
      "image/png": "[encoded data removed]"
     },
     "metadata": {},
     "output_type": "display_data"
    },
    {
     "name": "stdout",
     "output_type": "stream",
     "text": [
      "Model loss: 2.8250231742858887\n",
      "Model loss (shuffle): 24.190000534057617\n"
     ]
    },
    {
     "data": {
      "text/plain": [
       "<Figure size 640x480 with 1 Axes>"
      ],
      "image/png": "[encoded data removed]"
     },
     "metadata": {},
     "output_type": "display_data"
    }
   ],
   "execution_count": 13
  },
  {
   "cell_type": "code",
   "source": [
    "from pynndescent import NNDescent\n",
    "from dataclasses import dataclass\n",
    "    \n",
    "num_obs = np.sum(infos['traj_lens'])\n",
    "\n",
    "obs_norm = np.zeros((num_obs, latent_dim), dtype=np.float32)\n",
    "z_next = np.zeros((num_obs, latent_dim), dtype=np.float32)\n",
    "\n",
    "returns = np.zeros(num_obs, dtype=np.float32)\n",
    "actions = np.zeros((num_obs, trajs[0]['actions'].shape[1]), dtype=np.float32)\n",
    "\n",
    "next_state_distance = 3\n",
    "ind = 0\n",
    "for traj in tqdm(trajs):\n",
    "    indices = slice(ind, ind+traj['observations'].shape[0] - next_state_distance)\n",
    "    obs = traj['observations']\n",
    "    z = encoder(torch.tensor(obs, dtype=torch.float32)).detach().cpu().numpy()\n",
    "    obs_norm[indices] = z[:-next_state_distance]\n",
    "    z_next[indices] = z[next_state_distance:]\n",
    "    returns[indices] = traj['returns'][:-next_state_distance]\n",
    "    actions[indices] = traj['actions'][:-next_state_distance]\n",
    "    ind += traj['observations'].shape[0] - next_state_distance"
   ],
   "metadata": {
    "ExecuteTime": {
     "end_time": "2025-01-28T21:15:30.453238Z",
     "start_time": "2025-01-28T21:15:25.447426Z"
    }
   },
   "id": "cf948f9f88ecd65e",
   "outputs": [
    {
     "name": "stderr",
     "output_type": "stream",
     "text": [
      "100%|█████████████████████████████████████████████████████████████████████████████| 1000/1000 [00:00<00:00, 1280.52it/s]\n"
     ]
    }
   ],
   "execution_count": 14
  },
  {
   "metadata": {
    "collapsed": false,
    "ExecuteTime": {
     "end_time": "2025-01-28T21:16:59.349683Z",
     "start_time": "2025-01-28T21:15:30.456912Z"
    }
   },
   "cell_type": "code",
   "source": "index = NNDescent(obs_norm, metric='euclidean')",
   "id": "3a71db5b8fb5ae22",
   "outputs": [
    {
     "name": "stderr",
     "output_type": "stream",
     "text": [
      "/home/eop/code/CORL/venv/lib/python3.10/site-packages/numba/np/ufunc/parallel.py:371: NumbaWarning: The TBB threading layer requires TBB version 2021 update 6 or later i.e., TBB_INTERFACE_VERSION >= 12060. Found TBB_INTERFACE_VERSION = 12050. The TBB threading layer is disabled.\n",
      "  warnings.warn(problem)\n"
     ]
    }
   ],
   "execution_count": 15
  },
  {
   "cell_type": "code",
   "source": [
    "from algorithms.offline.knn import wrap_env\n",
    "\n",
    "eval_env = wrap_env(\n",
    "    env=gym.make(env_name),\n",
    "    state_mean=obs_mean,\n",
    "    state_std=obs_std,\n",
    "    reward_scale=1.0,\n",
    ")\n",
    "eval_episodes = 100\n",
    "k=1\n"
   ],
   "metadata": {
    "ExecuteTime": {
     "end_time": "2025-01-28T21:16:59.535442Z",
     "start_time": "2025-01-28T21:16:59.453049Z"
    }
   },
   "id": "303bc0ad45bae283",
   "outputs": [
    {
     "name": "stderr",
     "output_type": "stream",
     "text": [
      "/home/eop/code/CORL/venv/lib/python3.10/site-packages/gym/spaces/box.py:84: UserWarning: \u001B[33mWARN: Box bound precision lowered by casting to float32\u001B[0m\n",
      "  logger.warn(f\"Box bound precision lowered by casting to {self.dtype}\")\n"
     ]
    }
   ],
   "execution_count": 16
  },
  {
   "metadata": {
    "ExecuteTime": {
     "end_time": "2025-01-28T22:00:15.764548Z",
     "start_time": "2025-01-28T22:00:14.455123Z"
    }
   },
   "cell_type": "code",
   "source": [
    "s = eval_env.reset()\n",
    "z = encoder(torch.tensor(s, dtype=torch.float32).unsqueeze(0)).detach().cpu().numpy()\n",
    "idx, dist = index.query(z[0], k=500)\n",
    "idx, dist"
   ],
   "id": "e5c869e7524220e7",
   "outputs": [
    {
     "data": {
      "text/plain": [
       "(array([[496583, 306604, 342436, 465378, 787535, 858872, 201453, 869671,\n",
       "         324428, 440967, 555691, 669936, 170764, 611523, 570128, 574178,\n",
       "         965028,  22383, 411114, 817576, 817471, 889740, 339627,  85277,\n",
       "         934062, 383661, 542829,  75639, 570830, 514646, 612866, 670892,\n",
       "         368318, 183770,  58362, 265973, 145895, 184443, 160636,  20576,\n",
       "         868358, 805221, 647854, 141622, 555860, 288129, 210056, 491662,\n",
       "         947729, 564704, 508600, 118782, 939908, 729428, 645989, 899362,\n",
       "         137637, 648488,  43962, 262751, 681935,   8457, 765093, 604781,\n",
       "         399479, 304640, 858934, 801850, 933617, 723616,  33262, 379031,\n",
       "         540421, 836434, 470229, 777979, 555861, 515914, 661858, 558671,\n",
       "         137639, 491711, 353688,  18680, 899690,   8468, 658935,  43963,\n",
       "         801162, 244311, 106015, 591044, 292089, 267358, 583757, 186410,\n",
       "         292232,  16903, 744612, 890785, 717479, 933909, 645003, 465789,\n",
       "         113012, 834461, 898274, 761244, 666892, 640651, 263682, 163629,\n",
       "         928392, 113941, 586866, 196643, 669450, 734981,  31814, 353842,\n",
       "         633082, 341128, 866351, 524814, 318175, 314293, 886412, 362728,\n",
       "         800171, 370582, 732018, 529893, 951547, 325335, 166442, 601382,\n",
       "         366477, 635882, 114452, 965616, 806760, 463553, 107071, 508602,\n",
       "         281263, 344340, 310948, 471953, 388924, 219797, 761784, 110247,\n",
       "         769483,   9667,  58158,  54813, 710170, 466107, 180521, 827622,\n",
       "         169296, 953021, 461138, 399480, 407150, 924346, 177979, 451144,\n",
       "         437145, 132004, 332107, 336230, 268740, 146306, 736366, 210992,\n",
       "         918136, 571822, 312107, 457311,  33264, 406518, 628947, 923661,\n",
       "          18286, 706058, 402374, 215694, 475709, 795270, 739758, 931420,\n",
       "         885208, 131131, 735502, 270527, 510009, 469356, 638872, 664136,\n",
       "         649416, 196576, 145714, 543008, 110319, 538995, 940558, 611522,\n",
       "         295559, 645099, 935594, 952811, 332813, 939907, 477785, 482218,\n",
       "         293743, 242517, 328821, 297253,  77853, 330326, 446703, 208549,\n",
       "         408187, 563930, 570850, 776353, 451455, 321082, 831068,  38942,\n",
       "         464650,  69716, 117569, 715391, 276599, 481611, 560312, 200953,\n",
       "         305838, 624388, 244687, 894832, 602460, 734980, 931415, 984925,\n",
       "         964044, 645368, 507560, 604783, 752160, 994268, 281761, 432422,\n",
       "         286851, 707304,  76041, 118784, 390768, 502978,  11602, 787592,\n",
       "         462068, 985032, 466105, 918135, 470148,  75384, 820268, 140482,\n",
       "         392908,  68271,  75450, 806407, 601454, 477517, 951895,   5916,\n",
       "         675320, 382523,   1541, 801164, 541953, 138039, 501418, 764995,\n",
       "         283808,    130, 989435, 178205, 579964, 655313, 818966, 817470,\n",
       "         835436, 925664,  59511, 716724, 119561, 193890, 996148, 237377,\n",
       "         918296, 978402, 262024, 878258, 801670, 276128, 613051, 605685,\n",
       "         370672, 685574, 598253, 890690, 918298, 605739, 602461, 194719,\n",
       "          62436, 253045, 166440, 475927, 703311, 426187,  79896, 228487,\n",
       "         225800, 988788, 612882, 656681, 835400, 475819, 283810, 505670,\n",
       "         702026, 854480, 673264, 346026, 349871,  55779, 669937, 285278,\n",
       "         427911, 328640, 639560, 248975, 206700, 117138, 169651, 328641,\n",
       "         600424, 266523,  38944, 454071, 748302,  51127, 211601, 815854,\n",
       "         511513,  45095, 728018, 780058, 107772, 533802, 529892, 911330,\n",
       "         210993, 461954, 419906, 333513, 739100,  43961, 856212, 893894,\n",
       "         123097, 780898, 689779, 203435, 415229,  93603, 745978, 795269,\n",
       "         724962, 501419, 285279, 350123, 936167, 590141, 281262, 513539,\n",
       "         457530, 134804, 294658, 451115,  49235, 177618, 197868, 681399,\n",
       "         905014, 776082, 885780, 397229, 564703, 583024, 286118, 161390,\n",
       "         395590, 725744, 375996, 415230, 601380, 119757, 654648,  54963,\n",
       "         683622, 233522, 987422, 203817, 488243,  50513, 903765, 471422,\n",
       "         275473, 542167, 415325, 290948, 561517, 105416, 160635, 725211,\n",
       "         586565, 934961,  18565, 601453, 422240, 101070, 225703, 929453,\n",
       "         929956, 471750, 157592,  39624, 952757,  88623,  18566, 892593,\n",
       "         356447, 626186, 276323,  72534, 635884, 712634, 864603,  38626,\n",
       "         510236, 187773, 334540, 653448, 983081, 286850, 719833, 418158,\n",
       "         441266, 616725, 986781, 477996, 310951, 984924, 566398, 320817,\n",
       "         470130, 317867,  85870, 786588,  54964,  94981, 820165, 621324,\n",
       "         533383, 571882, 618092,   4830,  38242, 566175, 286852, 459676,\n",
       "         105418, 380068, 388436, 510234, 884926, 736885, 374168, 549599,\n",
       "         329876, 436287, 687880, 752161]], dtype=int32),\n",
       " array([[1.3564384, 1.3793373, 1.406807 , 1.4074594, 1.4557724, 1.4621891,\n",
       "         1.47421  , 1.4956081, 1.504916 , 1.5071819, 1.5184286, 1.5228487,\n",
       "         1.5325277, 1.5336909, 1.5411623, 1.5545691, 1.5867976, 1.6091179,\n",
       "         1.6107495, 1.628531 , 1.6317267, 1.6378872, 1.649211 , 1.6530159,\n",
       "         1.6576058, 1.6786184, 1.6786268, 1.6854757, 1.6859889, 1.6890831,\n",
       "         1.6990453, 1.6990592, 1.7020506, 1.7065346, 1.7072109, 1.711182 ,\n",
       "         1.7153313, 1.7212408, 1.7214041, 1.722569 , 1.7262439, 1.7280141,\n",
       "         1.7320623, 1.7323298, 1.732927 , 1.7413394, 1.7467552, 1.7467804,\n",
       "         1.7484839, 1.7531037, 1.7544155, 1.7590475, 1.7593306, 1.7602392,\n",
       "         1.7622939, 1.7687038, 1.7716689, 1.77252  , 1.7742152, 1.7868192,\n",
       "         1.7871728, 1.7895449, 1.7912444, 1.7931788, 1.7945375, 1.7947661,\n",
       "         1.7955552, 1.7992613, 1.7999004, 1.7999558, 1.8009391, 1.801367 ,\n",
       "         1.8018048, 1.8031677, 1.8045539, 1.8058662, 1.8076334, 1.8084081,\n",
       "         1.8160614, 1.8169707, 1.8172358, 1.8186301, 1.8191968, 1.8199636,\n",
       "         1.8207068, 1.8217304, 1.8232604, 1.8235863, 1.8244069, 1.8248938,\n",
       "         1.8262537, 1.8267223, 1.8267775, 1.8276592, 1.8277202, 1.83313  ,\n",
       "         1.8333405, 1.8348148, 1.8352402, 1.8368794, 1.8395624, 1.8440907,\n",
       "         1.8443311, 1.845582 , 1.8471482, 1.8476555, 1.8480083, 1.8480788,\n",
       "         1.8484912, 1.8486326, 1.8509756, 1.8512496, 1.8523059, 1.8529104,\n",
       "         1.8581103, 1.8594226, 1.862502 , 1.8649628, 1.8671402, 1.8699305,\n",
       "         1.8728588, 1.877187 , 1.8772198, 1.877988 , 1.8795903, 1.8822365,\n",
       "         1.8839327, 1.8840578, 1.885252 , 1.8877589, 1.8882391, 1.8899953,\n",
       "         1.8932792, 1.8943809, 1.8959212, 1.8962139, 1.8967043, 1.8985722,\n",
       "         1.8986238, 1.8986455, 1.8995581, 1.9011712, 1.9022608, 1.903049 ,\n",
       "         1.9053079, 1.9061733, 1.9075874, 1.9104744, 1.9107611, 1.9128553,\n",
       "         1.9129924, 1.9153765, 1.9169018, 1.9178419, 1.9179088, 1.9181398,\n",
       "         1.9215908, 1.9220214, 1.9230216, 1.9234469, 1.9235165, 1.9239814,\n",
       "         1.925117 , 1.9255018, 1.9266659, 1.9274833, 1.9283679, 1.9293144,\n",
       "         1.9296242, 1.9298869, 1.9300815, 1.9314286, 1.9318291, 1.9322855,\n",
       "         1.9323667, 1.9326848, 1.933134 , 1.9333862, 1.9342598, 1.9346718,\n",
       "         1.9353081, 1.9355869, 1.9362782, 1.9397418, 1.9419942, 1.9439468,\n",
       "         1.9456524, 1.946861 , 1.947444 , 1.9481635, 1.9481872, 1.954569 ,\n",
       "         1.9547058, 1.9559789, 1.9578906, 1.9584863, 1.9601997, 1.9602003,\n",
       "         1.9603187, 1.9620913, 1.9623684, 1.9637011, 1.9645875, 1.9656293,\n",
       "         1.9656742, 1.9666193, 1.9667722, 1.9676864, 1.9680665, 1.9682045,\n",
       "         1.9682878, 1.9686928, 1.9688702, 1.9702475, 1.9713265, 1.9716216,\n",
       "         1.971931 , 1.9723848, 1.9742306, 1.9763887, 1.9773024, 1.9777566,\n",
       "         1.9784787, 1.9839154, 1.9840258, 1.9842103, 1.9845784, 1.9846628,\n",
       "         1.9852003, 1.9882774, 1.9887474, 1.9891913, 1.9904914, 1.9907067,\n",
       "         1.9915925, 1.9918176, 1.9934511, 1.9940072, 1.99711  , 1.9972163,\n",
       "         1.9985744, 2.0003872, 2.000536 , 2.0007265, 2.0011394, 2.001993 ,\n",
       "         2.0023293, 2.0029101, 2.0034108, 2.0038261, 2.0043333, 2.0057015,\n",
       "         2.0074763, 2.0079317, 2.0079622, 2.0080905, 2.0090508, 2.009497 ,\n",
       "         2.0107768, 2.0121632, 2.0125654, 2.013021 , 2.0146885, 2.0151567,\n",
       "         2.015352 , 2.0171182, 2.0172117, 2.0172234, 2.0175781, 2.0176466,\n",
       "         2.0178256, 2.017886 , 2.0181067, 2.018278 , 2.018481 , 2.0185041,\n",
       "         2.0185983, 2.0195673, 2.0201018, 2.0206566, 2.0209231, 2.0213478,\n",
       "         2.0213733, 2.0216546, 2.0218961, 2.022037 , 2.0228188, 2.0235357,\n",
       "         2.0235791, 2.0247076, 2.0266774, 2.0268266, 2.026904 , 2.0269828,\n",
       "         2.0286655, 2.0291383, 2.0296435, 2.0298564, 2.0308833, 2.0312724,\n",
       "         2.0314016, 2.0324564, 2.0326602, 2.032733 , 2.032864 , 2.0333526,\n",
       "         2.034408 , 2.0345402, 2.0347776, 2.0354464, 2.036793 , 2.037879 ,\n",
       "         2.0396743, 2.04033  , 2.0407927, 2.0412345, 2.0417957, 2.0419018,\n",
       "         2.042209 , 2.043954 , 2.0454855, 2.0459025, 2.0462635, 2.046829 ,\n",
       "         2.0471606, 2.0481098, 2.0485651, 2.0487776, 2.0488546, 2.049387 ,\n",
       "         2.0509474, 2.0511646, 2.0518484, 2.0530853, 2.0530865, 2.053589 ,\n",
       "         2.0541174, 2.0544708, 2.0573022, 2.057387 , 2.0584347, 2.0587988,\n",
       "         2.0588484, 2.0591893, 2.060185 , 2.0615876, 2.0617096, 2.0627332,\n",
       "         2.0635118, 2.0638766, 2.0643978, 2.0646615, 2.0647388, 2.0652103,\n",
       "         2.0660467, 2.0668185, 2.0670426, 2.0673456, 2.0683892, 2.0684137,\n",
       "         2.0689957, 2.069317 , 2.069883 , 2.0699458, 2.0710776, 2.0711682,\n",
       "         2.0717745, 2.0717916, 2.0718853, 2.0724874, 2.072488 , 2.0736625,\n",
       "         2.073688 , 2.074386 , 2.0759087, 2.0766275, 2.0771937, 2.0773861,\n",
       "         2.0777338, 2.078428 , 2.0794027, 2.0808342, 2.0812664, 2.081521 ,\n",
       "         2.0823607, 2.0835855, 2.083819 , 2.0840666, 2.08531  , 2.0857496,\n",
       "         2.0862062, 2.086447 , 2.0869057, 2.0872002, 2.0874717, 2.0877464,\n",
       "         2.088303 , 2.0883417, 2.0889046, 2.089426 , 2.0913944, 2.091424 ,\n",
       "         2.092166 , 2.0923436, 2.0924103, 2.0930717, 2.094308 , 2.0943818,\n",
       "         2.096078 , 2.096366 , 2.0977476, 2.0978339, 2.0978827, 2.0987866,\n",
       "         2.0988846, 2.098996 , 2.099283 , 2.0993133, 2.0998645, 2.0999727,\n",
       "         2.1003366, 2.1008997, 2.1010628, 2.1012275, 2.1014874, 2.1018667,\n",
       "         2.1024184, 2.1030073, 2.1035938, 2.1036613, 2.1037974, 2.1040668,\n",
       "         2.1042156, 2.1051185, 2.105344 , 2.1054683, 2.1066556, 2.1071746,\n",
       "         2.1072147, 2.1079028, 2.1080835, 2.108427 , 2.1086628, 2.1098826,\n",
       "         2.1100998, 2.1104803, 2.111214 , 2.1119864, 2.1130269, 2.1135497,\n",
       "         2.1136198, 2.1137183, 2.114549 , 2.1172168, 2.117474 , 2.1179557,\n",
       "         2.119605 , 2.1197217, 2.1198258, 2.1199846, 2.1200545, 2.1206386,\n",
       "         2.1210096, 2.1210861, 2.1211824, 2.121276 , 2.1217797, 2.1218529,\n",
       "         2.1221228, 2.122231 , 2.1224525, 2.12246  , 2.1230237, 2.123216 ,\n",
       "         2.1232164, 2.123303 , 2.1235764, 2.123625 , 2.124181 , 2.1243927,\n",
       "         2.125744 , 2.1260111, 2.1263392, 2.1264677, 2.127766 , 2.12885  ,\n",
       "         2.1289153, 2.129693 , 2.1297657, 2.1298943, 2.1304173, 2.1304798,\n",
       "         2.130626 , 2.1308134, 2.132122 , 2.1323304, 2.1323545, 2.1324651,\n",
       "         2.1331036, 2.1352055]], dtype=float32))"
      ]
     },
     "execution_count": 20,
     "metadata": {},
     "output_type": "execute_result"
    }
   ],
   "execution_count": 20
  },
  {
   "metadata": {
    "collapsed": false,
    "ExecuteTime": {
     "end_time": "2025-01-28T21:19:32.339576Z",
     "start_time": "2025-01-28T21:18:01.433572Z"
    }
   },
   "cell_type": "code",
   "source": [
    "\n",
    "def eval():\n",
    "    obs = eval_env.reset()\n",
    "    done = False\n",
    "    total_reward = 0.0\n",
    "    while not done:\n",
    "        z = encoder(torch.tensor(obs, dtype=torch.float32).unsqueeze(0)).detach().cpu().numpy()\n",
    "        idxs, dists = index.query(z[0], k=k)\n",
    "        neighbor_rets = returns[idxs]\n",
    "        ranks = neighbor_rets * np.exp(-1 * dists)\n",
    "        best_idx = idxs[0, np.argmax(ranks)]\n",
    "\n",
    "        action = actions[best_idx]\n",
    "        obs, reward, done, _ = eval_env.step(action)\n",
    "        total_reward += reward\n",
    "    return total_reward\n",
    "\n",
    "\n",
    "eval_rets = [eval() for _ in trange(eval_episodes, desc=\"Evaluation\", leave=False)]\n",
    "np.mean(eval_rets), env.get_normalized_score(np.mean(eval_rets)) * 100.0"
   ],
   "id": "8fa1b28ee74f319c",
   "outputs": [
    {
     "name": "stderr",
     "output_type": "stream",
     "text": [
      "                                                                                                                        \r"
     ]
    },
    {
     "data": {
      "text/plain": [
       "(-208.83266220031058, 0.5746698542951675)"
      ]
     },
     "execution_count": 18,
     "metadata": {},
     "output_type": "execute_result"
    }
   ],
   "execution_count": 18
  },
  {
   "cell_type": "code",
   "source": [
    "def eval_inv_model():\n",
    "    obs = eval_env.reset()\n",
    "    done = False\n",
    "    total_reward = 0.0\n",
    "    while not done:\n",
    "        z = encoder(torch.tensor(obs, dtype=torch.float32).unsqueeze(0)).detach().cpu().numpy()[0]\n",
    "        idxs, dists = index.query(z, k=k)\n",
    "        neighbor_rets = returns[idxs]\n",
    "        ranks = neighbor_rets * np.exp(-1 * dists)\n",
    "        best_idx = idxs[0, np.argmax(ranks)]\n",
    "\n",
    "        action = inv_model(torch.tensor(np.concatenate([z, z_next[best_idx][None,:]], axis=-1), dtype=torch.float32).unsqueeze(0)).detach().cpu().numpy()\n",
    "        obs, reward, done, _ = eval_env.step(action.squeeze())\n",
    "        total_reward += reward\n",
    "    return total_reward\n",
    "\n",
    "\n",
    "eval_rets_inv = [eval_inv_model() for _ in trange(eval_episodes, desc=\"Evaluation\", leave=False)]\n",
    "np.mean(eval_rets_inv), env.get_normalized_score(np.mean(eval_rets_inv)) * 100.0"
   ],
   "metadata": {
    "collapsed": false,
    "ExecuteTime": {
     "end_time": "2025-01-28T21:22:17.776934Z",
     "start_time": "2025-01-28T21:19:32.383444Z"
    }
   },
   "id": "f7cb9fd3758c4a96",
   "outputs": [
    {
     "name": "stderr",
     "output_type": "stream",
     "text": [
      "                                                                                                                        \r"
     ]
    },
    {
     "data": {
      "text/plain": [
       "(355.93425072214706, 5.1236732561832055)"
      ]
     },
     "execution_count": 19,
     "metadata": {},
     "output_type": "execute_result"
    }
   ],
   "execution_count": 19
  },
  {
   "cell_type": "code",
   "source": "",
   "metadata": {
    "collapsed": false,
    "ExecuteTime": {
     "end_time": "2025-01-28T21:22:17.817703Z",
     "start_time": "2025-01-28T21:22:17.814856Z"
    }
   },
   "id": "2fde76f09220764c",
   "outputs": [],
   "execution_count": null
  },
  {
   "metadata": {
    "ExecuteTime": {
     "end_time": "2025-01-28T21:22:17.863704Z",
     "start_time": "2025-01-28T21:22:17.860568Z"
    }
   },
   "cell_type": "code",
   "source": "",
   "id": "6288fbe3492159a1",
   "outputs": [],
   "execution_count": null
  }
 ],
 "metadata": {
  "kernelspec": {
   "display_name": "Python 3",
   "language": "python",
   "name": "python3"
  },
  "language_info": {
   "codemirror_mode": {
    "name": "ipython",
    "version": 2
   },
   "file_extension": ".py",
   "mimetype": "text/x-python",
   "name": "python",
   "nbconvert_exporter": "python",
   "pygments_lexer": "ipython2",
   "version": "2.7.6"
  }
 },
 "nbformat": 4,
 "nbformat_minor": 5
}
