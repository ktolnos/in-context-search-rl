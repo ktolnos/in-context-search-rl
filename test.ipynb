{
 "cells": [
  {
   "cell_type": "code",
   "id": "initial_id",
   "metadata": {
    "collapsed": true,
    "ExecuteTime": {
     "end_time": "2025-01-21T22:31:35.513177Z",
     "start_time": "2025-01-21T22:31:35.498286Z"
    }
   },
   "source": [
    "import tqdm\n",
    "\n",
    "%load_ext autoreload\n",
    "%autoreload 2\n",
    "import sys\n",
    "import os\n",
    "print(os.environ['LD_LIBRARY_PATH'])\n",
    "sys.executable"
   ],
   "outputs": [
    {
     "name": "stdout",
     "output_type": "stream",
     "text": [
      "/usr/local/cuda-12.6/lib64:~/.virtualenvs/dopamine/lib/python3.10/site-packages/nvidia/cudnn//lib:/home/eop/.mujoco/mujoco210/bin:/usr/lib/nvidia\n"
     ]
    },
    {
     "data": {
      "text/plain": [
       "'/home/eop/code/CORL/venv/bin/python'"
      ]
     },
     "execution_count": 1,
     "metadata": {},
     "output_type": "execute_result"
    }
   ],
   "execution_count": 1
  },
  {
   "metadata": {
    "collapsed": false,
    "ExecuteTime": {
     "end_time": "2025-01-21T22:31:39.019702Z",
     "start_time": "2025-01-21T22:31:35.545918Z"
    }
   },
   "cell_type": "code",
   "source": [
    "import os\n",
    "import random\n",
    "import uuid\n",
    "from dataclasses import asdict, dataclass\n",
    "from pathlib import Path\n",
    "from typing import Any, Dict, List, Optional, Tuple, Union\n",
    "\n",
    "import d4rl\n",
    "import gym\n",
    "import numpy as np\n",
    "import pyrallis\n",
    "import torch\n",
    "import torch.nn as nn\n",
    "import torch.nn.functional as F\n",
    "import wandb\n",
    "from tqdm import tqdm, trange\n",
    "import multiprocessing\n",
    "\n",
    "multiprocessing.set_start_method('spawn', force=True)"
   ],
   "id": "4f4786aa65e3996d",
   "outputs": [
    {
     "name": "stderr",
     "output_type": "stream",
     "text": [
      "Warning: Flow failed to import. Set the environment variable D4RL_SUPPRESS_IMPORT_ERROR=1 to suppress this message.\n",
      "No module named 'flow'\n",
      "Warning: CARLA failed to import. Set the environment variable D4RL_SUPPRESS_IMPORT_ERROR=1 to suppress this message.\n",
      "No module named 'carla'\n",
      "pybullet build time: Nov 28 2023 23:45:17\n"
     ]
    }
   ],
   "execution_count": 2
  },
  {
   "cell_type": "code",
   "source": [
    "env_name = 'maze2d-umaze-v1'\n",
    "env = gym.make(env_name)\n",
    "dataset = env.get_dataset()\n",
    "torch.set_default_device('cuda')"
   ],
   "metadata": {
    "collapsed": false,
    "ExecuteTime": {
     "end_time": "2025-01-21T22:31:40.445012Z",
     "start_time": "2025-01-21T22:31:39.064516Z"
    }
   },
   "id": "6ffc9688bf8b4a8a",
   "outputs": [
    {
     "name": "stderr",
     "output_type": "stream",
     "text": [
      "load datafile: 100%|██████████████████████████████████████████████████████████████████████| 8/8 [00:00<00:00, 38.71it/s]\n"
     ]
    }
   ],
   "execution_count": 3
  },
  {
   "cell_type": "code",
   "source": [
    "from algorithms.offline.knn import load_d4rl_trajectories"
   ],
   "metadata": {
    "collapsed": false,
    "ExecuteTime": {
     "end_time": "2025-01-21T22:31:40.490431Z",
     "start_time": "2025-01-21T22:31:40.448983Z"
    }
   },
   "id": "7b3b44e1b24b2108",
   "outputs": [],
   "execution_count": 4
  },
  {
   "cell_type": "code",
   "source": [
    "trajs, infos = load_d4rl_trajectories(env_name)\n",
    "obs_shape = trajs[0]['observations'].shape[1]\n",
    "action_shape=trajs[0]['actions'].shape[1]\n",
    "obs_mean = infos['obs_mean']\n",
    "obs_std = infos['obs_std']\n",
    "print(obs_shape, action_shape)"
   ],
   "metadata": {
    "collapsed": false,
    "ExecuteTime": {
     "end_time": "2025-01-21T22:31:42.542016Z",
     "start_time": "2025-01-21T22:31:40.575963Z"
    }
   },
   "id": "93fabbdff1f6bf34",
   "outputs": [
    {
     "name": "stderr",
     "output_type": "stream",
     "text": [
      "load datafile: 100%|██████████████████████████████████████████████████████████████████████| 8/8 [00:00<00:00, 39.26it/s]\n"
     ]
    },
    {
     "data": {
      "text/plain": [
       "Processing trajectories:   0%|          | 0/1000000 [00:00<?, ?it/s]"
      ],
      "application/vnd.jupyter.widget-view+json": {
       "version_major": 2,
       "version_minor": 0,
       "model_id": "67eadde0a83340f199a4618d0b600acf"
      },
      "application/json": {
       "n": 0,
       "total": 1000000,
       "elapsed": 0.0026979446411132812,
       "ncols": null,
       "nrows": 30,
       "prefix": "Processing trajectories",
       "ascii": false,
       "unit": "it",
       "unit_scale": false,
       "rate": null,
       "bar_format": null,
       "postfix": null,
       "unit_divisor": 1000,
       "initial": 0,
       "colour": null
      }
     },
     "metadata": {},
     "output_type": "display_data"
    },
    {
     "name": "stdout",
     "output_type": "stream",
     "text": [
      "4 2\n"
     ]
    }
   ],
   "execution_count": 5
  },
  {
   "cell_type": "code",
   "source": [
    "infos"
   ],
   "metadata": {
    "collapsed": false,
    "ExecuteTime": {
     "end_time": "2025-01-21T22:31:42.577604Z",
     "start_time": "2025-01-21T22:31:42.561138Z"
    }
   },
   "id": "534c9ba88b08d594",
   "outputs": [
    {
     "data": {
      "text/plain": [
       "{'obs_mean': array([[ 1.9327888e+00,  2.3744664e+00,  2.0562936e-04, -1.0198415e-03]],\n",
       "       dtype=float32),\n",
       " 'obs_std': array([[0.89972275, 0.7093169 , 2.2128625 , 2.468174  ]], dtype=float32),\n",
       " 'reward_mean': array([0.081254], dtype=float32),\n",
       " 'reward_std': array([0.27322578], dtype=float32),\n",
       " 'traj_lens': array([ 92,  53,  86, ..., 143, 110, 166])}"
      ]
     },
     "execution_count": 6,
     "metadata": {},
     "output_type": "execute_result"
    }
   ],
   "execution_count": 6
  },
  {
   "cell_type": "code",
   "source": [
    "qdataset = dict()\n",
    "next_state_distance = 3\n",
    "qdataset[\"observations\"] = np.concatenate([traj[\"observations\"][:-next_state_distance] for traj in trajs], axis=0)\n",
    "qdataset[\"actions\"] = np.concatenate([traj[\"actions\"][:-next_state_distance] for traj in trajs], axis=0)\n",
    "qdataset[\"next_observations\"] = np.concatenate([traj[\"observations\"][next_state_distance:] for traj in trajs], axis=0)\n",
    "qdataset[\"rewards\"] = np.concatenate([traj[\"rewards\"][:-next_state_distance] for traj in trajs], axis=0)\n",
    "\n",
    "qdataset[\"observations\"] = (qdataset[\"observations\"] - obs_mean) / obs_std\n",
    "qdataset[\"next_observations\"] = (qdataset[\"next_observations\"] - obs_mean) / obs_std\n",
    "qdataset[\"rewards\"] = (qdataset[\"rewards\"] - qdataset[\"rewards\"].mean()) / qdataset[\"rewards\"].std()"
   ],
   "metadata": {
    "collapsed": false,
    "ExecuteTime": {
     "end_time": "2025-01-21T22:31:42.676855Z",
     "start_time": "2025-01-21T22:31:42.610992Z"
    }
   },
   "id": "c3f9fb30b2d735bf",
   "outputs": [],
   "execution_count": 7
  },
  {
   "cell_type": "code",
   "source": [
    "class QDataset(torch.utils.data.Dataset):\n",
    "    \n",
    "    def __init__(self, dataset: Dict[str, np.ndarray]):\n",
    "        self.dataset = dataset\n",
    "        self.keys = list(dataset.keys())\n",
    "        self.length = len(dataset[self.keys[0]])\n",
    "    \n",
    "    def __len__(self):\n",
    "        return self.length\n",
    "    \n",
    "    def __getitem__(self, idx):\n",
    "        return {k: self.dataset[k][idx] for k in self.keys}"
   ],
   "metadata": {
    "collapsed": false,
    "ExecuteTime": {
     "end_time": "2025-01-21T22:31:42.702218Z",
     "start_time": "2025-01-21T22:31:42.691085Z"
    }
   },
   "id": "7d6f202e3337b2df",
   "outputs": [],
   "execution_count": 8
  },
  {
   "cell_type": "code",
   "source": [
    "class Encoder(nn.Module):\n",
    "    def __init__(self, obs_shape: int, hidden_dim: int, latent_dim: int):\n",
    "        super(Encoder, self).__init__()\n",
    "        self.fc1 = nn.Linear(obs_shape, hidden_dim)\n",
    "        self.fc2 = nn.Linear(hidden_dim, hidden_dim)\n",
    "        self.fc3 = nn.Linear(hidden_dim, hidden_dim)\n",
    "        self.fc4 = nn.Linear(hidden_dim, latent_dim)\n",
    "        self.ln1 = nn.LayerNorm(hidden_dim)\n",
    "        self.ln2 = nn.LayerNorm(hidden_dim)\n",
    "        self.ln3 = nn.LayerNorm(hidden_dim)\n",
    "    \n",
    "    def forward(self, x):\n",
    "        x = F.relu(self.fc1(x))\n",
    "        x = self.ln1(x)\n",
    "        x = F.relu(self.fc2(x))\n",
    "        x = self.ln2(x)\n",
    "        x = F.relu(self.fc3(x))\n",
    "        x = self.ln3(x)\n",
    "        return self.fc4(x)\n",
    "\n",
    "class Identity(nn.Module):\n",
    "    def forward(self, x):\n",
    "        return x\n",
    "\n",
    "class ForwardModel(nn.Module):\n",
    "    def __init__(self, action_shape: int, hidden_dim: int, latent_dim: int):\n",
    "        super(ForwardModel, self).__init__()\n",
    "        self.fc1 = nn.Linear(latent_dim + action_shape, hidden_dim)\n",
    "        self.fc2 = nn.Linear(hidden_dim, hidden_dim)\n",
    "        self.fc3 = nn.Linear(hidden_dim, hidden_dim)\n",
    "        self.fc4 = nn.Linear(hidden_dim, latent_dim)\n",
    "        self.ln1 = nn.LayerNorm(hidden_dim)\n",
    "        self.ln2 = nn.LayerNorm(hidden_dim)\n",
    "        self.ln3 = nn.LayerNorm(hidden_dim)\n",
    "    \n",
    "    def forward(self, x):\n",
    "        x = F.relu(self.fc1(x))\n",
    "        x = self.ln1(x)\n",
    "        x = F.relu(self.fc2(x))\n",
    "        x = self.ln2(x)\n",
    "        x = F.relu(self.fc3(x))\n",
    "        x = self.ln3(x)\n",
    "        return self.fc4(x)\n",
    "\n",
    "class InvModel(nn.Module):\n",
    "    def __init__(self, latent_dim: int, hidden_dim: int, action_shape: int):\n",
    "        super(InvModel, self).__init__()\n",
    "        self.fc1 = nn.Linear(latent_dim*2, hidden_dim)\n",
    "        self.fc2 = nn.Linear(hidden_dim, hidden_dim)\n",
    "        self.fc3 = nn.Linear(hidden_dim, hidden_dim)\n",
    "        self.fc4 = nn.Linear(hidden_dim, action_shape)\n",
    "\n",
    "    def forward(self, x):\n",
    "        x = F.relu(self.fc1(x))\n",
    "        x = F.relu(self.fc2(x))\n",
    "        x = F.relu(self.fc3(x))\n",
    "        return self.fc4(x)\n",
    "    \n",
    "class RewardModel(nn.Module):\n",
    "    def __init__(self, latent_dim: int, hidden_dim: int):\n",
    "        super(RewardModel, self).__init__()\n",
    "        self.fc1 = nn.Linear(latent_dim, hidden_dim)\n",
    "        self.fc2 = nn.Linear(hidden_dim, hidden_dim)\n",
    "        self.fc3 = nn.Linear(hidden_dim, 1)\n",
    "    \n",
    "    def forward(self, x):\n",
    "        x = F.relu(self.fc1(x))\n",
    "        x = F.relu(self.fc2(x))\n",
    "        return self.fc3(x)\n",
    "\n",
    "use_encoder = True\n",
    "hidden_dim = 256\n",
    "latent_dim = 16 if use_encoder else obs_shape\n",
    "encoder = Encoder(obs_shape=obs_shape, hidden_dim=hidden_dim, latent_dim=latent_dim) if use_encoder else Identity()\n",
    "target_encoder = Encoder(obs_shape=obs_shape, hidden_dim=hidden_dim, latent_dim=latent_dim) if use_encoder else Identity()\n",
    "model = ForwardModel(action_shape=action_shape, hidden_dim=hidden_dim, latent_dim=latent_dim)\n",
    "inv_model = InvModel(latent_dim=latent_dim, hidden_dim=hidden_dim, action_shape=action_shape)\n",
    "reward_model = RewardModel(latent_dim=latent_dim, hidden_dim=hidden_dim)"
   ],
   "metadata": {
    "collapsed": false,
    "ExecuteTime": {
     "end_time": "2025-01-21T22:31:42.978883Z",
     "start_time": "2025-01-21T22:31:42.749227Z"
    }
   },
   "id": "1af456c6243c75f6",
   "outputs": [],
   "execution_count": 9
  },
  {
   "cell_type": "code",
   "source": [
    "from torch.utils.data import DataLoader\n",
    "from torch.optim import AdamW\n",
    "from torch.optim.lr_scheduler import LambdaLR\n",
    "\n",
    "batch_size = 256\n",
    "target_ema = 0.95\n",
    "epochs = 5\n",
    "all_data = QDataset(qdataset)\n",
    "train_size = int(0.8 * len(all_data))\n",
    "dataset, val_set = torch.utils.data.random_split(all_data, [train_size, len(all_data) - train_size], generator=torch.Generator(device='cuda'))\n",
    "\n",
    "dataloader = DataLoader(dataset, batch_size=batch_size, shuffle=True, generator=torch.Generator(device='cuda'))\n",
    "optimizer = AdamW(list(encoder.parameters()) + list(model.parameters()) + \n",
    "                  list(reward_model.parameters()) + list(inv_model.parameters()), lr=1e-3, weight_decay=1e-3)\n",
    "\n",
    "def cosine_loss(z, z_next):\n",
    "    return -F.cosine_similarity(z, z_next, dim=-1).mean()\n",
    "\n",
    "def mse_loss(z, z_next):\n",
    "    return F.mse_loss(z, z_next)\n",
    "\n",
    "model_loss_fn = mse_loss\n",
    "\n",
    "def train_step(batch):\n",
    "    obs = batch['observations']\n",
    "    act = batch['actions']\n",
    "    next_obs = batch['next_observations']\n",
    "    rews = batch['rewards'][:, None]\n",
    "    \n",
    "    z = encoder(obs)\n",
    "    with torch.no_grad():\n",
    "        z_next = target_encoder(next_obs)\n",
    "    z_pred = model(torch.cat([z, act], dim=-1))\n",
    "    reward_pred = reward_model(z)\n",
    "    action_pred = inv_model(torch.cat([z, z_next], dim=-1))\n",
    "    \n",
    "    reward_loss = F.mse_loss(reward_pred, rews)\n",
    "    model_loss = model_loss_fn(z_pred, z_next)\n",
    "    action_loss = F.mse_loss(action_pred, act)\n",
    "    loss = reward_loss + model_loss + action_loss\n",
    "    \n",
    "    optimizer.zero_grad()\n",
    "    loss.backward()\n",
    "    optimizer.step()\n",
    "    \n",
    "    # Update target encoder with exponential moving average\n",
    "    for param, target_param in zip(encoder.parameters(), target_encoder.parameters()):\n",
    "        target_param.data = target_param.data * target_ema + param.data * (1.0 - target_ema)\n",
    "    \n",
    "    return loss.item(), reward_loss.item(), model_loss.item(), action_loss.item()\n",
    "\n",
    "losses = []\n",
    "reward_losses = []\n",
    "model_losses = []\n",
    "action_losses = []\n",
    "for epoch in range(epochs):\n",
    "    print(f\"Epoch {epoch}\")\n",
    "    for batch in tqdm(dataloader):\n",
    "        loss, reward_loss, model_loss, action_loss = train_step(batch)\n",
    "        losses.append(loss)\n",
    "        reward_losses.append(reward_loss)\n",
    "        model_losses.append(model_loss)\n",
    "        action_losses.append(action_loss)\n"
   ],
   "metadata": {
    "collapsed": false,
    "ExecuteTime": {
     "end_time": "2025-01-21T22:52:20.819525Z",
     "start_time": "2025-01-21T22:31:42.993340Z"
    }
   },
   "id": "e5cc62c12f61de52",
   "outputs": [
    {
     "name": "stdout",
     "output_type": "stream",
     "text": [
      "Epoch 0\n"
     ]
    },
    {
     "name": "stderr",
     "output_type": "stream",
     "text": [
      "100%|███████████████████████████████████████████████████████████████████████████████| 3019/3019 [01:48<00:00, 27.76it/s]\n"
     ]
    },
    {
     "name": "stdout",
     "output_type": "stream",
     "text": [
      "Epoch 1\n"
     ]
    },
    {
     "name": "stderr",
     "output_type": "stream",
     "text": [
      "100%|███████████████████████████████████████████████████████████████████████████████| 3019/3019 [03:47<00:00, 13.30it/s]\n"
     ]
    },
    {
     "name": "stdout",
     "output_type": "stream",
     "text": [
      "Epoch 2\n"
     ]
    },
    {
     "name": "stderr",
     "output_type": "stream",
     "text": [
      "100%|███████████████████████████████████████████████████████████████████████████████| 3019/3019 [05:02<00:00,  9.98it/s]\n"
     ]
    },
    {
     "name": "stdout",
     "output_type": "stream",
     "text": [
      "Epoch 3\n"
     ]
    },
    {
     "name": "stderr",
     "output_type": "stream",
     "text": [
      "100%|███████████████████████████████████████████████████████████████████████████████| 3019/3019 [04:58<00:00, 10.11it/s]\n"
     ]
    },
    {
     "name": "stdout",
     "output_type": "stream",
     "text": [
      "Epoch 4\n"
     ]
    },
    {
     "name": "stderr",
     "output_type": "stream",
     "text": [
      "100%|███████████████████████████████████████████████████████████████████████████████| 3019/3019 [05:00<00:00, 10.05it/s]\n"
     ]
    }
   ],
   "execution_count": 10
  },
  {
   "metadata": {
    "ExecuteTime": {
     "end_time": "2025-01-21T22:52:21.664816Z",
     "start_time": "2025-01-21T22:52:20.875152Z"
    }
   },
   "cell_type": "code",
   "source": [
    "import matplotlib.pyplot as plt\n",
    "plt.plot(losses, label='total')\n",
    "plt.legend()\n",
    "plt.show()\n",
    "\n",
    "plt.plot(reward_losses, label='reward')\n",
    "plt.legend()\n",
    "plt.show()\n",
    "\n",
    "plt.plot(model_losses[100:], label='model')\n",
    "plt.legend()\n",
    "plt.show()\n",
    "\n",
    "plt.plot(action_losses, label='action')\n",
    "plt.legend()\n",
    "plt.show()"
   ],
   "id": "74a6e72258b6f617",
   "outputs": [
    {
     "data": {
      "text/plain": [
       "<Figure size 640x480 with 1 Axes>"
      ],
      "image/png": "[encoded data removed]"
     },
     "metadata": {},
     "output_type": "display_data"
    },
    {
     "data": {
      "text/plain": [
       "<Figure size 640x480 with 1 Axes>"
      ],
      "image/png": "[encoded data removed]"
     },
     "metadata": {},
     "output_type": "display_data"
    },
    {
     "data": {
      "text/plain": [
       "<Figure size 640x480 with 1 Axes>"
      ],
      "image/png": "[encoded data removed]"
     },
     "metadata": {},
     "output_type": "display_data"
    },
    {
     "data": {
      "text/plain": [
       "<Figure size 640x480 with 1 Axes>"
      ],
      "image/png": "[encoded data removed]"
     },
     "metadata": {},
     "output_type": "display_data"
    }
   ],
   "execution_count": 11
  },
  {
   "metadata": {
    "ExecuteTime": {
     "end_time": "2025-01-21T22:53:26.804973Z",
     "start_time": "2025-01-21T22:52:21.706156Z"
    }
   },
   "cell_type": "code",
   "source": [
    "# validate that model is accurate\n",
    "\n",
    "val_set_loader = DataLoader(val_set, batch_size=batch_size, shuffle=True, generator=torch.Generator(device='cuda'))\n",
    "\n",
    "model_loss_total = 0\n",
    "model_loss_z_znext = 0\n",
    "model_loss_random = 0\n",
    "model_loss_shuffle = 0\n",
    "with torch.no_grad():\n",
    "    for batch in val_set_loader:\n",
    "        z = encoder(batch['observations'])\n",
    "        z_next = target_encoder(batch['next_observations'])\n",
    "        z_pred = model(torch.cat([z, batch['actions']], dim=-1))\n",
    "        model_loss_total += model_loss_fn(z_pred, z_next)\n",
    "        model_loss_z_znext += model_loss_fn(z, z_next)\n",
    "        model_loss_random += model_loss_fn(torch.randn_like(z), torch.randn_like(z_next))\n",
    "        model_loss_shuffle += model_loss_fn(z[torch.randperm(len(z))], z_next)\n",
    "print(\n",
    "    f\"Model loss: {model_loss_total / len(val_set_loader)}\\n\"\n",
    "    f\"Model loss (z, z_next): {model_loss_z_znext / len(val_set_loader)}\\n\"\n",
    "    f\"Model loss (random): {model_loss_random / len(val_set_loader)}\\n\"\n",
    "    f\"Model loss (shuffle): {model_loss_shuffle / len(val_set_loader)}\"\n",
    ")"
   ],
   "id": "d99e7271b580a7ec",
   "outputs": [
    {
     "name": "stdout",
     "output_type": "stream",
     "text": [
      "Model loss: 0.11100799590349197\n",
      "Model loss (z, z_next): 0.7039031386375427\n",
      "Model loss (random): 1.9983711242675781\n",
      "Model loss (shuffle): 20.024349212646484\n"
     ]
    }
   ],
   "execution_count": 12
  },
  {
   "cell_type": "code",
   "source": [
    "from pynndescent import NNDescent\n",
    "from dataclasses import dataclass\n",
    "    \n",
    "num_obs = np.sum(infos['traj_lens'])\n",
    "\n",
    "obs_norm = np.zeros((num_obs, latent_dim), dtype=np.float32)\n",
    "z_next = np.zeros((num_obs, latent_dim), dtype=np.float32)\n",
    "\n",
    "returns = np.zeros(num_obs, dtype=np.float32)\n",
    "actions = np.zeros((num_obs, trajs[0]['actions'].shape[1]), dtype=np.float32)\n",
    "\n",
    "\n",
    "ind = 0\n",
    "for traj in tqdm(trajs):\n",
    "    indices = slice(ind, ind+traj['observations'].shape[0] - next_state_distance)\n",
    "    obs = ((traj['observations'] - obs_mean) / obs_std)\n",
    "    z = encoder(torch.tensor(obs, dtype=torch.float32)).detach().cpu().numpy()\n",
    "    obs_norm[indices] = z[:-next_state_distance]\n",
    "    z_next[indices] = z[1:-(next_state_distance-1)]\n",
    "    returns[indices] = traj['returns'][:-next_state_distance]\n",
    "    actions[indices] = traj['actions'][:-next_state_distance]\n",
    "    ind += traj['observations'].shape[0] - next_state_distance"
   ],
   "metadata": {
    "ExecuteTime": {
     "end_time": "2025-01-21T22:53:40.556615Z",
     "start_time": "2025-01-21T22:53:26.880692Z"
    }
   },
   "id": "cf948f9f88ecd65e",
   "outputs": [
    {
     "name": "stderr",
     "output_type": "stream",
     "text": [
      "100%|███████████████████████████████████████████████████████████████████████████| 12459/12459 [00:08<00:00, 1387.71it/s]\n"
     ]
    }
   ],
   "execution_count": 13
  },
  {
   "metadata": {
    "collapsed": false,
    "ExecuteTime": {
     "end_time": "2025-01-21T22:55:12.034626Z",
     "start_time": "2025-01-21T22:53:40.562603Z"
    }
   },
   "cell_type": "code",
   "source": "index = NNDescent(obs_norm, metric='cosine' if model_loss_fn == cosine_loss else 'euclidean')",
   "id": "3a71db5b8fb5ae22",
   "outputs": [
    {
     "name": "stderr",
     "output_type": "stream",
     "text": [
      "/home/eop/code/CORL/venv/lib/python3.10/site-packages/numba/np/ufunc/parallel.py:371: NumbaWarning: The TBB threading layer requires TBB version 2021 update 6 or later i.e., TBB_INTERFACE_VERSION >= 12060. Found TBB_INTERFACE_VERSION = 12050. The TBB threading layer is disabled.\n",
      "  warnings.warn(problem)\n"
     ]
    }
   ],
   "execution_count": 14
  },
  {
   "cell_type": "code",
   "source": [
    "idx, dist = index.query(obs_norm[1243:1244], k=10)\n",
    "idx.shape, idx"
   ],
   "metadata": {
    "collapsed": false,
    "ExecuteTime": {
     "end_time": "2025-01-21T22:56:11.948379Z",
     "start_time": "2025-01-21T22:55:12.104292Z"
    }
   },
   "id": "2eead12e6843fd99",
   "outputs": [
    {
     "data": {
      "text/plain": [
       "((1, 10),\n",
       " array([[  1243, 893257, 603644, 946989, 884178,  82718, 165079, 303782,\n",
       "         720293, 429931]], dtype=int32))"
      ]
     },
     "execution_count": 15,
     "metadata": {},
     "output_type": "execute_result"
    }
   ],
   "execution_count": 15
  },
  {
   "cell_type": "code",
   "source": [
    "from algorithms.offline.knn import wrap_env\n",
    "\n",
    "eval_env = wrap_env(\n",
    "    env=gym.make(env_name),\n",
    "    state_mean=obs_mean,\n",
    "    state_std=obs_std,\n",
    "    reward_scale=1.0,\n",
    ")\n",
    "eval_episodes = 100\n",
    "k=500\n",
    "\n",
    "\n",
    "def eval():\n",
    "    obs = eval_env.reset()\n",
    "    done = False\n",
    "    total_reward = 0.0\n",
    "    while not done:\n",
    "        z = encoder(torch.tensor(obs, dtype=torch.float32).unsqueeze(0)).detach().cpu().numpy()\n",
    "        idxs, dists = index.query(z[0], k=k)\n",
    "        neighbor_rets = returns[idxs]\n",
    "        ranks = neighbor_rets * np.exp(-1 * dists)\n",
    "        best_idx = idxs[0, np.argmax(ranks)]\n",
    "        \n",
    "        action = actions[best_idx]\n",
    "        obs, reward, done, _ = eval_env.step(action)\n",
    "        total_reward += reward\n",
    "    return total_reward\n",
    "\n",
    "\n",
    "eval_rets = [eval() for _ in trange(eval_episodes, desc=\"Evaluation\", leave=False)]\n",
    "np.mean(eval_rets), env.get_normalized_score(np.mean(eval_rets)) * 100.0"
   ],
   "metadata": {
    "collapsed": false,
    "ExecuteTime": {
     "end_time": "2025-01-21T22:56:41.523226Z",
     "start_time": "2025-01-21T22:56:12.000264Z"
    }
   },
   "id": "8fa1b28ee74f319c",
   "outputs": [
    {
     "name": "stderr",
     "output_type": "stream",
     "text": [
      "                                                                                                                        \r"
     ]
    },
    {
     "data": {
      "text/plain": [
       "(89.03, 47.2284617056735)"
      ]
     },
     "execution_count": 16,
     "metadata": {},
     "output_type": "execute_result"
    }
   ],
   "execution_count": 16
  },
  {
   "cell_type": "code",
   "source": [
    "def eval_inv_model():\n",
    "    obs = eval_env.reset()\n",
    "    done = False\n",
    "    total_reward = 0.0\n",
    "    while not done:\n",
    "        z = encoder(torch.tensor(obs, dtype=torch.float32).unsqueeze(0)).detach().cpu().numpy()[0]\n",
    "        idxs, dists = index.query(z, k=k)\n",
    "        neighbor_rets = returns[idxs]\n",
    "        ranks = neighbor_rets * np.exp(-1 * dists)\n",
    "        best_idx = idxs[0, np.argmax(ranks)]\n",
    "\n",
    "        action = inv_model(torch.tensor(np.concatenate([z, z_next[best_idx][None,:]], axis=-1), dtype=torch.float32).unsqueeze(0)).detach().cpu().numpy()\n",
    "        obs, reward, done, _ = eval_env.step(action.squeeze())\n",
    "        total_reward += reward\n",
    "    return total_reward\n",
    "\n",
    "\n",
    "eval_rets_inv = [eval_inv_model() for _ in trange(eval_episodes, desc=\"Evaluation\", leave=False)]\n",
    "np.mean(eval_rets_inv), env.get_normalized_score(np.mean(eval_rets_inv)) * 100.0"
   ],
   "metadata": {
    "collapsed": false,
    "ExecuteTime": {
     "end_time": "2025-01-21T22:57:25.707929Z",
     "start_time": "2025-01-21T22:56:41.563988Z"
    }
   },
   "id": "f7cb9fd3758c4a96",
   "outputs": [
    {
     "name": "stderr",
     "output_type": "stream",
     "text": [
      "                                                                                                                        \r"
     ]
    },
    {
     "data": {
      "text/plain": [
       "(61.76, 27.469023983769286)"
      ]
     },
     "execution_count": 17,
     "metadata": {},
     "output_type": "execute_result"
    }
   ],
   "execution_count": 17
  },
  {
   "cell_type": "code",
   "source": [],
   "metadata": {
    "collapsed": false,
    "ExecuteTime": {
     "end_time": "2025-01-21T22:57:25.714851Z",
     "start_time": "2025-01-21T22:57:25.712032Z"
    }
   },
   "id": "2fde76f09220764c",
   "outputs": [],
   "execution_count": null
  },
  {
   "metadata": {
    "ExecuteTime": {
     "end_time": "2025-01-21T22:57:25.761810Z",
     "start_time": "2025-01-21T22:57:25.758960Z"
    }
   },
   "cell_type": "code",
   "source": "",
   "id": "6288fbe3492159a1",
   "outputs": [],
   "execution_count": null
  }
 ],
 "metadata": {
  "kernelspec": {
   "display_name": "Python 3",
   "language": "python",
   "name": "python3"
  },
  "language_info": {
   "codemirror_mode": {
    "name": "ipython",
    "version": 2
   },
   "file_extension": ".py",
   "mimetype": "text/x-python",
   "name": "python",
   "nbconvert_exporter": "python",
   "pygments_lexer": "ipython2",
   "version": "2.7.6"
  }
 },
 "nbformat": 4,
 "nbformat_minor": 5
}
