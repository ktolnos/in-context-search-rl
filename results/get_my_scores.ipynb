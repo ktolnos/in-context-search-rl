{
 "cells": [
  {
   "cell_type": "code",
   "id": "initial_id",
   "metadata": {
    "collapsed": true,
    "ExecuteTime": {
     "end_time": "2025-01-31T00:00:37.000265Z",
     "start_time": "2025-01-31T00:00:36.945286Z"
    }
   },
   "source": [
    "import tqdm\n",
    "\n",
    "%load_ext autoreload\n",
    "%autoreload 2\n",
    "import sys\n",
    "import os\n",
    "import wandb\n",
    "import pandas as pd\n",
    "import numpy as np\n",
    "from plot_config import groups_to_plot, datasets_in_use\n",
    "\n",
    "sys.executable"
   ],
   "outputs": [
    {
     "name": "stdout",
     "output_type": "stream",
     "text": [
      "The autoreload extension is already loaded. To reload it, use:\n",
      "  %reload_ext autoreload\n"
     ]
    },
    {
     "data": {
      "text/plain": [
       "'/home/eop/code/CORL/venv/bin/python'"
      ]
     },
     "execution_count": 42,
     "metadata": {},
     "output_type": "execute_result"
    }
   ],
   "execution_count": 42
  },
  {
   "metadata": {
    "ExecuteTime": {
     "end_time": "2025-01-31T00:00:37.376055Z",
     "start_time": "2025-01-31T00:00:37.048211Z"
    }
   },
   "cell_type": "code",
   "source": [
    "api = wandb.Api(timeout=29)\n",
    "scores = dict()\n",
    "\n",
    "for group in groups_to_plot:\n",
    "    scores[group] = dict()\n",
    "    scores[group + \"_inv\"] = dict()\n",
    "    runs = api.runs(path=\"distill-llms/CORL\", filters={\"group\": group})\n",
    "    for run in runs:\n",
    "        try:\n",
    "            scores[group][run.config['_content']['env']] = [[run.summary[\"eval/normalized_return\"]]]\n",
    "            scores[group + \"_inv\"][run.config['_content']['env']] = [[run.summary[\"eval/normalized_return_inv\"]]]\n",
    "        except KeyError:\n",
    "            pass\n",
    "scores\n"
   ],
   "id": "eb11ce53e992e108",
   "outputs": [
    {
     "data": {
      "text/plain": [
       "{'5step-2epoch': {'maze2d-umaze-v1': [[77.32048402289689]],\n",
       "  'relocate-cloned-v1': [[0.04173754007110091]],\n",
       "  'door-cloned-v1': [[0.2336057198326983]],\n",
       "  'walker2d-medium-v2': [[69.29151044661991]],\n",
       "  'hammer-cloned-v1': [[27.88150916803106]],\n",
       "  'halfcheetah-medium-v2': [[40.65392198501322]],\n",
       "  'pen-human-v1': [[69.76335607532883]],\n",
       "  'pen-cloned-v1': [[109.92838087879947]],\n",
       "  'halfcheetah-medium-replay-v2': [[27.383353265957737]],\n",
       "  'pen-expert-v1': [[149.41711669045625]],\n",
       "  'hopper-medium-v2': [[51.985135424838035]],\n",
       "  'halfcheetah-medium-expert-v2': [[56.748357078037245]]},\n",
       " '5step-2epoch_inv': {'maze2d-umaze-v1': [[101.4056952394754]],\n",
       "  'relocate-cloned-v1': [[0.11768783580227152]],\n",
       "  'door-cloned-v1': [[-0.006988328384232945]],\n",
       "  'walker2d-medium-v2': [[71.14064530458155]],\n",
       "  'hammer-cloned-v1': [[1.0075817246166]],\n",
       "  'halfcheetah-medium-v2': [[41.58136056944664]],\n",
       "  'pen-human-v1': [[-2.5123374670589427]],\n",
       "  'pen-cloned-v1': [[68.34612094027061]],\n",
       "  'halfcheetah-medium-replay-v2': [[31.08352807383977]],\n",
       "  'pen-expert-v1': [[114.4230916900085]],\n",
       "  'hopper-medium-v2': [[49.0838669174647]],\n",
       "  'halfcheetah-medium-expert-v2': [[77.67488408246193]]},\n",
       " '5epochs': {'pen-expert-v1': [[145.0549497454667]],\n",
       "  'pen-cloned-v1': [[112.5700751016412]],\n",
       "  'halfcheetah-medium-replay-v2': [[28.75352885810579]],\n",
       "  'maze2d-umaze-v1': [[77.44366350264472]],\n",
       "  'maze2d-large-v1': [[26.102734857271127]],\n",
       "  'halfcheetah-medium-v2': [[40.795297117997606]],\n",
       "  'pen-human-v1': [[64.41342151627967]],\n",
       "  'hopper-medium-v2': [[52.54791663354326]],\n",
       "  'door-cloned-v1': [[0.24663111052742365]],\n",
       "  'antmaze-umaze-v2': [[73]],\n",
       "  'hammer-cloned-v1': [[24.759444716210872]],\n",
       "  'relocate-cloned-v1': [[0.10118295989125588]],\n",
       "  'walker2d-medium-v2': [[72.39426727779937]],\n",
       "  'halfcheetah-medium-expert-v2': [[58.31380070535802]],\n",
       "  'antmaze-large-play-v2': [[0]]},\n",
       " '5epochs_inv': {'pen-expert-v1': [[116.85321534435012]],\n",
       "  'pen-cloned-v1': [[60.73211633160025]],\n",
       "  'halfcheetah-medium-replay-v2': [[33.9540036951836]],\n",
       "  'maze2d-umaze-v1': [[83.24759075429317]],\n",
       "  'maze2d-large-v1': [[7.100901642410864]],\n",
       "  'halfcheetah-medium-v2': [[40.44608012534266]],\n",
       "  'pen-human-v1': [[-1.3364538755657345]],\n",
       "  'hopper-medium-v2': [[55.18631803320173]],\n",
       "  'door-cloned-v1': [[-0.08398915721707749]],\n",
       "  'antmaze-umaze-v2': [[76]],\n",
       "  'hammer-cloned-v1': [[1.2851220697834465]],\n",
       "  'relocate-cloned-v1': [[0.06524682017128447]],\n",
       "  'walker2d-medium-v2': [[72.4565235725823]],\n",
       "  'halfcheetah-medium-expert-v2': [[78.07421996376243]],\n",
       "  'antmaze-large-play-v2': [[0]]}}"
      ]
     },
     "execution_count": 43,
     "metadata": {},
     "output_type": "execute_result"
    }
   ],
   "execution_count": 43
  },
  {
   "metadata": {
    "ExecuteTime": {
     "end_time": "2025-01-31T00:00:37.420667Z",
     "start_time": "2025-01-31T00:00:37.407879Z"
    }
   },
   "cell_type": "code",
   "source": [
    "for score in scores:\n",
    "    for dataset in datasets_in_use:\n",
    "        if dataset not in scores[score]:\n",
    "            scores[score][dataset] = [[np.nan]]\n",
    "\n",
    "scores"
   ],
   "id": "b183e91b2fde17dd",
   "outputs": [
    {
     "data": {
      "text/plain": [
       "{'5step-2epoch': {'maze2d-umaze-v1': [[77.32048402289689]],\n",
       "  'relocate-cloned-v1': [[0.04173754007110091]],\n",
       "  'door-cloned-v1': [[0.2336057198326983]],\n",
       "  'walker2d-medium-v2': [[69.29151044661991]],\n",
       "  'hammer-cloned-v1': [[27.88150916803106]],\n",
       "  'halfcheetah-medium-v2': [[40.65392198501322]],\n",
       "  'pen-human-v1': [[69.76335607532883]],\n",
       "  'pen-cloned-v1': [[109.92838087879947]],\n",
       "  'halfcheetah-medium-replay-v2': [[27.383353265957737]],\n",
       "  'pen-expert-v1': [[149.41711669045625]],\n",
       "  'hopper-medium-v2': [[51.985135424838035]],\n",
       "  'halfcheetah-medium-expert-v2': [[56.748357078037245]],\n",
       "  'maze2d-large-v1': [[nan]],\n",
       "  'antmaze-large-play-v2': [[nan]],\n",
       "  'antmaze-umaze-v2': [[nan]]},\n",
       " '5step-2epoch_inv': {'maze2d-umaze-v1': [[101.4056952394754]],\n",
       "  'relocate-cloned-v1': [[0.11768783580227152]],\n",
       "  'door-cloned-v1': [[-0.006988328384232945]],\n",
       "  'walker2d-medium-v2': [[71.14064530458155]],\n",
       "  'hammer-cloned-v1': [[1.0075817246166]],\n",
       "  'halfcheetah-medium-v2': [[41.58136056944664]],\n",
       "  'pen-human-v1': [[-2.5123374670589427]],\n",
       "  'pen-cloned-v1': [[68.34612094027061]],\n",
       "  'halfcheetah-medium-replay-v2': [[31.08352807383977]],\n",
       "  'pen-expert-v1': [[114.4230916900085]],\n",
       "  'hopper-medium-v2': [[49.0838669174647]],\n",
       "  'halfcheetah-medium-expert-v2': [[77.67488408246193]],\n",
       "  'maze2d-large-v1': [[nan]],\n",
       "  'antmaze-large-play-v2': [[nan]],\n",
       "  'antmaze-umaze-v2': [[nan]]},\n",
       " '5epochs': {'pen-expert-v1': [[145.0549497454667]],\n",
       "  'pen-cloned-v1': [[112.5700751016412]],\n",
       "  'halfcheetah-medium-replay-v2': [[28.75352885810579]],\n",
       "  'maze2d-umaze-v1': [[77.44366350264472]],\n",
       "  'maze2d-large-v1': [[26.102734857271127]],\n",
       "  'halfcheetah-medium-v2': [[40.795297117997606]],\n",
       "  'pen-human-v1': [[64.41342151627967]],\n",
       "  'hopper-medium-v2': [[52.54791663354326]],\n",
       "  'door-cloned-v1': [[0.24663111052742365]],\n",
       "  'antmaze-umaze-v2': [[73]],\n",
       "  'hammer-cloned-v1': [[24.759444716210872]],\n",
       "  'relocate-cloned-v1': [[0.10118295989125588]],\n",
       "  'walker2d-medium-v2': [[72.39426727779937]],\n",
       "  'halfcheetah-medium-expert-v2': [[58.31380070535802]],\n",
       "  'antmaze-large-play-v2': [[0]]},\n",
       " '5epochs_inv': {'pen-expert-v1': [[116.85321534435012]],\n",
       "  'pen-cloned-v1': [[60.73211633160025]],\n",
       "  'halfcheetah-medium-replay-v2': [[33.9540036951836]],\n",
       "  'maze2d-umaze-v1': [[83.24759075429317]],\n",
       "  'maze2d-large-v1': [[7.100901642410864]],\n",
       "  'halfcheetah-medium-v2': [[40.44608012534266]],\n",
       "  'pen-human-v1': [[-1.3364538755657345]],\n",
       "  'hopper-medium-v2': [[55.18631803320173]],\n",
       "  'door-cloned-v1': [[-0.08398915721707749]],\n",
       "  'antmaze-umaze-v2': [[76]],\n",
       "  'hammer-cloned-v1': [[1.2851220697834465]],\n",
       "  'relocate-cloned-v1': [[0.06524682017128447]],\n",
       "  'walker2d-medium-v2': [[72.4565235725823]],\n",
       "  'halfcheetah-medium-expert-v2': [[78.07421996376243]],\n",
       "  'antmaze-large-play-v2': [[0]]}}"
      ]
     },
     "execution_count": 44,
     "metadata": {},
     "output_type": "execute_result"
    }
   ],
   "execution_count": 44
  },
  {
   "metadata": {
    "ExecuteTime": {
     "end_time": "2025-01-31T00:00:37.520885Z",
     "start_time": "2025-01-31T00:00:37.509107Z"
    }
   },
   "cell_type": "code",
   "source": [
    "import pickle\n",
    "\n",
    "\n",
    "with open(\"bin/myscores.pkl\", \"wb\") as f:\n",
    "    pickle.dump(scores, f)"
   ],
   "id": "809213dd1d2d0765",
   "outputs": [],
   "execution_count": 45
  },
  {
   "metadata": {
    "ExecuteTime": {
     "end_time": "2025-01-31T00:00:37.569525Z",
     "start_time": "2025-01-31T00:00:37.566691Z"
    }
   },
   "cell_type": "code",
   "source": "",
   "id": "cbe80d8fc48d93ca",
   "outputs": [],
   "execution_count": null
  }
 ],
 "metadata": {
  "kernelspec": {
   "display_name": "Python 3",
   "language": "python",
   "name": "python3"
  },
  "language_info": {
   "codemirror_mode": {
    "name": "ipython",
    "version": 2
   },
   "file_extension": ".py",
   "mimetype": "text/x-python",
   "name": "python",
   "nbconvert_exporter": "python",
   "pygments_lexer": "ipython2",
   "version": "2.7.6"
  }
 },
 "nbformat": 4,
 "nbformat_minor": 5
}
