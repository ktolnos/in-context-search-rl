{
 "cells": [
  {
   "cell_type": "code",
   "id": "initial_id",
   "metadata": {
    "collapsed": true,
    "ExecuteTime": {
     "end_time": "2025-01-24T21:28:23.122568Z",
     "start_time": "2025-01-24T21:28:23.108182Z"
    }
   },
   "source": [
    "import tqdm\n",
    "\n",
    "%load_ext autoreload\n",
    "%autoreload 2\n",
    "import sys\n",
    "import os\n",
    "print(os.environ['LD_LIBRARY_PATH'])\n",
    "sys.executable"
   ],
   "outputs": [
    {
     "name": "stdout",
     "output_type": "stream",
     "text": [
      "/usr/local/cuda-12.6/lib64:~/.virtualenvs/dopamine/lib/python3.10/site-packages/nvidia/cudnn//lib:/home/eop/.mujoco/mujoco210/bin:/usr/lib/nvidia\n"
     ]
    },
    {
     "data": {
      "text/plain": [
       "'/home/eop/code/CORL/venv/bin/python'"
      ]
     },
     "execution_count": 1,
     "metadata": {},
     "output_type": "execute_result"
    }
   ],
   "execution_count": 1
  },
  {
   "metadata": {
    "collapsed": false,
    "ExecuteTime": {
     "end_time": "2025-01-24T21:28:25.376027Z",
     "start_time": "2025-01-24T21:28:23.161658Z"
    }
   },
   "cell_type": "code",
   "source": [
    "import os\n",
    "import random\n",
    "import uuid\n",
    "from dataclasses import asdict, dataclass\n",
    "from pathlib import Path\n",
    "from typing import Any, Dict, List, Optional, Tuple, Union\n",
    "\n",
    "import d4rl\n",
    "import gym\n",
    "import numpy as np\n",
    "import pyrallis\n",
    "import torch\n",
    "import torch.nn as nn\n",
    "import torch.nn.functional as F\n",
    "import wandb\n",
    "from tqdm import tqdm, trange\n",
    "import multiprocessing\n",
    "\n",
    "multiprocessing.set_start_method('spawn', force=True)"
   ],
   "id": "4f4786aa65e3996d",
   "outputs": [
    {
     "name": "stderr",
     "output_type": "stream",
     "text": [
      "Warning: Flow failed to import. Set the environment variable D4RL_SUPPRESS_IMPORT_ERROR=1 to suppress this message.\n",
      "No module named 'flow'\n",
      "Warning: CARLA failed to import. Set the environment variable D4RL_SUPPRESS_IMPORT_ERROR=1 to suppress this message.\n",
      "No module named 'carla'\n",
      "pybullet build time: Nov 28 2023 23:45:17\n"
     ]
    }
   ],
   "execution_count": 2
  },
  {
   "cell_type": "code",
   "source": [
    "env_name = 'halfcheetah-medium-v2'\n",
    "env = gym.make(env_name)\n",
    "dataset = env.get_dataset()\n",
    "torch.set_default_device('cuda')"
   ],
   "metadata": {
    "collapsed": false,
    "ExecuteTime": {
     "end_time": "2025-01-24T21:28:28.211593Z",
     "start_time": "2025-01-24T21:28:25.406858Z"
    }
   },
   "id": "6ffc9688bf8b4a8a",
   "outputs": [
    {
     "name": "stderr",
     "output_type": "stream",
     "text": [
      "/home/eop/code/CORL/venv/lib/python3.10/site-packages/gym/spaces/box.py:84: UserWarning: \u001B[33mWARN: Box bound precision lowered by casting to float32\u001B[0m\n",
      "  logger.warn(f\"Box bound precision lowered by casting to {self.dtype}\")\n",
      "load datafile: 100%|████████████████████████████████████████████████████████████████████| 21/21 [00:01<00:00, 12.11it/s]\n"
     ]
    }
   ],
   "execution_count": 3
  },
  {
   "cell_type": "code",
   "source": [
    "from algorithms.offline.knn import load_d4rl_trajectories"
   ],
   "metadata": {
    "collapsed": false,
    "ExecuteTime": {
     "end_time": "2025-01-24T21:28:28.393136Z",
     "start_time": "2025-01-24T21:28:28.334192Z"
    }
   },
   "id": "7b3b44e1b24b2108",
   "outputs": [],
   "execution_count": 4
  },
  {
   "cell_type": "code",
   "source": [
    "trajs, infos = load_d4rl_trajectories(env_name)\n",
    "obs_shape = trajs[0]['observations'].shape[1]\n",
    "action_shape=trajs[0]['actions'].shape[1]\n",
    "obs_mean = infos['obs_mean']\n",
    "obs_std = infos['obs_std']\n",
    "print(obs_shape, action_shape)"
   ],
   "metadata": {
    "collapsed": false,
    "ExecuteTime": {
     "end_time": "2025-01-24T21:28:31.956851Z",
     "start_time": "2025-01-24T21:28:28.418830Z"
    }
   },
   "id": "93fabbdff1f6bf34",
   "outputs": [
    {
     "name": "stderr",
     "output_type": "stream",
     "text": [
      "/home/eop/code/CORL/venv/lib/python3.10/site-packages/gym/spaces/box.py:84: UserWarning: \u001B[33mWARN: Box bound precision lowered by casting to float32\u001B[0m\n",
      "  logger.warn(f\"Box bound precision lowered by casting to {self.dtype}\")\n",
      "load datafile: 100%|████████████████████████████████████████████████████████████████████| 21/21 [00:01<00:00, 12.79it/s]\n"
     ]
    },
    {
     "data": {
      "text/plain": [
       "Processing trajectories:   0%|          | 0/1000000 [00:00<?, ?it/s]"
      ],
      "application/vnd.jupyter.widget-view+json": {
       "version_major": 2,
       "version_minor": 0,
       "model_id": "ad9ae58f8cae4eedb858f0f9a173f63f"
      },
      "application/json": {
       "n": 0,
       "total": 1000000,
       "elapsed": 0.0031766891479492188,
       "ncols": null,
       "nrows": 30,
       "prefix": "Processing trajectories",
       "ascii": false,
       "unit": "it",
       "unit_scale": false,
       "rate": null,
       "bar_format": null,
       "postfix": null,
       "unit_divisor": 1000,
       "initial": 0,
       "colour": null
      }
     },
     "metadata": {},
     "output_type": "display_data"
    },
    {
     "name": "stdout",
     "output_type": "stream",
     "text": [
      "17 6\n"
     ]
    }
   ],
   "execution_count": 5
  },
  {
   "cell_type": "code",
   "source": [
    "infos"
   ],
   "metadata": {
    "collapsed": false,
    "ExecuteTime": {
     "end_time": "2025-01-24T21:28:32.003676Z",
     "start_time": "2025-01-24T21:28:31.984449Z"
    }
   },
   "id": "534c9ba88b08d594",
   "outputs": [
    {
     "data": {
      "text/plain": [
       "{'obs_mean': array([[-0.06845774,  0.01641455, -0.18354906, -0.27624607, -0.34061527,\n",
       "         -0.09339716, -0.21321271, -0.08774239,  5.1730075 , -0.04275195,\n",
       "         -0.03610836,  0.14053793,  0.06049833,  0.09550975,  0.067391  ,\n",
       "          0.00562739,  0.01338279]], dtype=float32),\n",
       " 'obs_std': array([[ 0.07472999,  0.30234998,  0.3020731 ,  0.34417078,  0.17619242,\n",
       "          0.5072056 ,  0.25670078,  0.32948127,  1.2574149 ,  0.7600542 ,\n",
       "          1.9800916 ,  6.5653625 ,  7.4663677 ,  4.472223  , 10.566964  ,\n",
       "          5.6719327 ,  7.498259  ]], dtype=float32),\n",
       " 'reward_mean': array([4.7703357], dtype=float32),\n",
       " 'reward_std': array([1.2101753], dtype=float32),\n",
       " 'traj_lens': array([1000, 1000, 1000, 1000, 1000, 1000, 1000, 1000, 1000, 1000, 1000,\n",
       "        1000, 1000, 1000, 1000, 1000, 1000, 1000, 1000, 1000, 1000, 1000,\n",
       "        1000, 1000, 1000, 1000, 1000, 1000, 1000, 1000, 1000, 1000, 1000,\n",
       "        1000, 1000, 1000, 1000, 1000, 1000, 1000, 1000, 1000, 1000, 1000,\n",
       "        1000, 1000, 1000, 1000, 1000, 1000, 1000, 1000, 1000, 1000, 1000,\n",
       "        1000, 1000, 1000, 1000, 1000, 1000, 1000, 1000, 1000, 1000, 1000,\n",
       "        1000, 1000, 1000, 1000, 1000, 1000, 1000, 1000, 1000, 1000, 1000,\n",
       "        1000, 1000, 1000, 1000, 1000, 1000, 1000, 1000, 1000, 1000, 1000,\n",
       "        1000, 1000, 1000, 1000, 1000, 1000, 1000, 1000, 1000, 1000, 1000,\n",
       "        1000, 1000, 1000, 1000, 1000, 1000, 1000, 1000, 1000, 1000, 1000,\n",
       "        1000, 1000, 1000, 1000, 1000, 1000, 1000, 1000, 1000, 1000, 1000,\n",
       "        1000, 1000, 1000, 1000, 1000, 1000, 1000, 1000, 1000, 1000, 1000,\n",
       "        1000, 1000, 1000, 1000, 1000, 1000, 1000, 1000, 1000, 1000, 1000,\n",
       "        1000, 1000, 1000, 1000, 1000, 1000, 1000, 1000, 1000, 1000, 1000,\n",
       "        1000, 1000, 1000, 1000, 1000, 1000, 1000, 1000, 1000, 1000, 1000,\n",
       "        1000, 1000, 1000, 1000, 1000, 1000, 1000, 1000, 1000, 1000, 1000,\n",
       "        1000, 1000, 1000, 1000, 1000, 1000, 1000, 1000, 1000, 1000, 1000,\n",
       "        1000, 1000, 1000, 1000, 1000, 1000, 1000, 1000, 1000, 1000, 1000,\n",
       "        1000, 1000, 1000, 1000, 1000, 1000, 1000, 1000, 1000, 1000, 1000,\n",
       "        1000, 1000, 1000, 1000, 1000, 1000, 1000, 1000, 1000, 1000, 1000,\n",
       "        1000, 1000, 1000, 1000, 1000, 1000, 1000, 1000, 1000, 1000, 1000,\n",
       "        1000, 1000, 1000, 1000, 1000, 1000, 1000, 1000, 1000, 1000, 1000,\n",
       "        1000, 1000, 1000, 1000, 1000, 1000, 1000, 1000, 1000, 1000, 1000,\n",
       "        1000, 1000, 1000, 1000, 1000, 1000, 1000, 1000, 1000, 1000, 1000,\n",
       "        1000, 1000, 1000, 1000, 1000, 1000, 1000, 1000, 1000, 1000, 1000,\n",
       "        1000, 1000, 1000, 1000, 1000, 1000, 1000, 1000, 1000, 1000, 1000,\n",
       "        1000, 1000, 1000, 1000, 1000, 1000, 1000, 1000, 1000, 1000, 1000,\n",
       "        1000, 1000, 1000, 1000, 1000, 1000, 1000, 1000, 1000, 1000, 1000,\n",
       "        1000, 1000, 1000, 1000, 1000, 1000, 1000, 1000, 1000, 1000, 1000,\n",
       "        1000, 1000, 1000, 1000, 1000, 1000, 1000, 1000, 1000, 1000, 1000,\n",
       "        1000, 1000, 1000, 1000, 1000, 1000, 1000, 1000, 1000, 1000, 1000,\n",
       "        1000, 1000, 1000, 1000, 1000, 1000, 1000, 1000, 1000, 1000, 1000,\n",
       "        1000, 1000, 1000, 1000, 1000, 1000, 1000, 1000, 1000, 1000, 1000,\n",
       "        1000, 1000, 1000, 1000, 1000, 1000, 1000, 1000, 1000, 1000, 1000,\n",
       "        1000, 1000, 1000, 1000, 1000, 1000, 1000, 1000, 1000, 1000, 1000,\n",
       "        1000, 1000, 1000, 1000, 1000, 1000, 1000, 1000, 1000, 1000, 1000,\n",
       "        1000, 1000, 1000, 1000, 1000, 1000, 1000, 1000, 1000, 1000, 1000,\n",
       "        1000, 1000, 1000, 1000, 1000, 1000, 1000, 1000, 1000, 1000, 1000,\n",
       "        1000, 1000, 1000, 1000, 1000, 1000, 1000, 1000, 1000, 1000, 1000,\n",
       "        1000, 1000, 1000, 1000, 1000, 1000, 1000, 1000, 1000, 1000, 1000,\n",
       "        1000, 1000, 1000, 1000, 1000, 1000, 1000, 1000, 1000, 1000, 1000,\n",
       "        1000, 1000, 1000, 1000, 1000, 1000, 1000, 1000, 1000, 1000, 1000,\n",
       "        1000, 1000, 1000, 1000, 1000, 1000, 1000, 1000, 1000, 1000, 1000,\n",
       "        1000, 1000, 1000, 1000, 1000, 1000, 1000, 1000, 1000, 1000, 1000,\n",
       "        1000, 1000, 1000, 1000, 1000, 1000, 1000, 1000, 1000, 1000, 1000,\n",
       "        1000, 1000, 1000, 1000, 1000, 1000, 1000, 1000, 1000, 1000, 1000,\n",
       "        1000, 1000, 1000, 1000, 1000, 1000, 1000, 1000, 1000, 1000, 1000,\n",
       "        1000, 1000, 1000, 1000, 1000, 1000, 1000, 1000, 1000, 1000, 1000,\n",
       "        1000, 1000, 1000, 1000, 1000, 1000, 1000, 1000, 1000, 1000, 1000,\n",
       "        1000, 1000, 1000, 1000, 1000, 1000, 1000, 1000, 1000, 1000, 1000,\n",
       "        1000, 1000, 1000, 1000, 1000, 1000, 1000, 1000, 1000, 1000, 1000,\n",
       "        1000, 1000, 1000, 1000, 1000, 1000, 1000, 1000, 1000, 1000, 1000,\n",
       "        1000, 1000, 1000, 1000, 1000, 1000, 1000, 1000, 1000, 1000, 1000,\n",
       "        1000, 1000, 1000, 1000, 1000, 1000, 1000, 1000, 1000, 1000, 1000,\n",
       "        1000, 1000, 1000, 1000, 1000, 1000, 1000, 1000, 1000, 1000, 1000,\n",
       "        1000, 1000, 1000, 1000, 1000, 1000, 1000, 1000, 1000, 1000, 1000,\n",
       "        1000, 1000, 1000, 1000, 1000, 1000, 1000, 1000, 1000, 1000, 1000,\n",
       "        1000, 1000, 1000, 1000, 1000, 1000, 1000, 1000, 1000, 1000, 1000,\n",
       "        1000, 1000, 1000, 1000, 1000, 1000, 1000, 1000, 1000, 1000, 1000,\n",
       "        1000, 1000, 1000, 1000, 1000, 1000, 1000, 1000, 1000, 1000, 1000,\n",
       "        1000, 1000, 1000, 1000, 1000, 1000, 1000, 1000, 1000, 1000, 1000,\n",
       "        1000, 1000, 1000, 1000, 1000, 1000, 1000, 1000, 1000, 1000, 1000,\n",
       "        1000, 1000, 1000, 1000, 1000, 1000, 1000, 1000, 1000, 1000, 1000,\n",
       "        1000, 1000, 1000, 1000, 1000, 1000, 1000, 1000, 1000, 1000, 1000,\n",
       "        1000, 1000, 1000, 1000, 1000, 1000, 1000, 1000, 1000, 1000, 1000,\n",
       "        1000, 1000, 1000, 1000, 1000, 1000, 1000, 1000, 1000, 1000, 1000,\n",
       "        1000, 1000, 1000, 1000, 1000, 1000, 1000, 1000, 1000, 1000, 1000,\n",
       "        1000, 1000, 1000, 1000, 1000, 1000, 1000, 1000, 1000, 1000, 1000,\n",
       "        1000, 1000, 1000, 1000, 1000, 1000, 1000, 1000, 1000, 1000, 1000,\n",
       "        1000, 1000, 1000, 1000, 1000, 1000, 1000, 1000, 1000, 1000, 1000,\n",
       "        1000, 1000, 1000, 1000, 1000, 1000, 1000, 1000, 1000, 1000, 1000,\n",
       "        1000, 1000, 1000, 1000, 1000, 1000, 1000, 1000, 1000, 1000, 1000,\n",
       "        1000, 1000, 1000, 1000, 1000, 1000, 1000, 1000, 1000, 1000, 1000,\n",
       "        1000, 1000, 1000, 1000, 1000, 1000, 1000, 1000, 1000, 1000, 1000,\n",
       "        1000, 1000, 1000, 1000, 1000, 1000, 1000, 1000, 1000, 1000, 1000,\n",
       "        1000, 1000, 1000, 1000, 1000, 1000, 1000, 1000, 1000, 1000, 1000,\n",
       "        1000, 1000, 1000, 1000, 1000, 1000, 1000, 1000, 1000, 1000, 1000,\n",
       "        1000, 1000, 1000, 1000, 1000, 1000, 1000, 1000, 1000, 1000, 1000,\n",
       "        1000, 1000, 1000, 1000, 1000, 1000, 1000, 1000, 1000, 1000, 1000,\n",
       "        1000, 1000, 1000, 1000, 1000, 1000, 1000, 1000, 1000, 1000, 1000,\n",
       "        1000, 1000, 1000, 1000, 1000, 1000, 1000, 1000, 1000, 1000, 1000,\n",
       "        1000, 1000, 1000, 1000, 1000, 1000, 1000, 1000, 1000, 1000, 1000,\n",
       "        1000, 1000, 1000, 1000, 1000, 1000, 1000, 1000, 1000, 1000, 1000,\n",
       "        1000, 1000, 1000, 1000, 1000, 1000, 1000, 1000, 1000, 1000, 1000,\n",
       "        1000, 1000, 1000, 1000, 1000, 1000, 1000, 1000, 1000, 1000, 1000,\n",
       "        1000, 1000, 1000, 1000, 1000, 1000, 1000, 1000, 1000, 1000, 1000,\n",
       "        1000, 1000, 1000, 1000, 1000, 1000, 1000, 1000, 1000, 1000, 1000,\n",
       "        1000, 1000, 1000, 1000, 1000, 1000, 1000, 1000, 1000, 1000, 1000,\n",
       "        1000, 1000, 1000, 1000, 1000, 1000, 1000, 1000, 1000, 1000, 1000,\n",
       "        1000, 1000, 1000, 1000, 1000, 1000, 1000, 1000, 1000, 1000, 1000,\n",
       "        1000, 1000, 1000, 1000, 1000, 1000, 1000, 1000, 1000, 1000])}"
      ]
     },
     "execution_count": 6,
     "metadata": {},
     "output_type": "execute_result"
    }
   ],
   "execution_count": 6
  },
  {
   "cell_type": "code",
   "source": [
    "class QDataset(torch.utils.data.Dataset):\n",
    "    \n",
    "    def __init__(self, trajs, infos):\n",
    "        self.trajs = trajs\n",
    "        self.infos = infos\n",
    "        self.obs_mean = infos['obs_mean']\n",
    "        self.obs_std = infos['obs_std']\n",
    "        self.traj_lens = np.array([traj['observations'].shape[0] for traj in trajs])\n",
    "        self.next_state_distance_min = 1\n",
    "        self.next_state_distance_max = 5\n",
    "        self.next_state_distance_max_tensor = torch.tensor(self.next_state_distance_max, dtype=torch.float32)\n",
    "        for traj in trajs:\n",
    "            traj['observations'] = (traj['observations'] - self.obs_mean) / self.obs_std\n",
    "            traj['rewards'] = (traj['rewards'] - traj['rewards'].mean()) / traj['rewards'].std()\n",
    "\n",
    "        self.qdataset = dict()\n",
    "        self.qdataset[\"observations\"] = np.concatenate([traj[\"observations\"][:-self.next_state_distance_max] for i, traj in enumerate(trajs) if self.traj_lens[i] > self.next_state_distance_max], axis=0)\n",
    "        self.qdataset[\"actions\"] = np.concatenate([traj[\"actions\"][:-self.next_state_distance_max] for traj in trajs], axis=0)\n",
    "        self.max_traj_len = max(self.traj_lens)\n",
    "        self.reshuffle_next_state_distance()\n",
    "\n",
    "    def reshuffle_next_state_distance(self):\n",
    "        next_state_distance = np.random.randint(self.next_state_distance_min, self.next_state_distance_max, (len(self.trajs),self.max_traj_len))\n",
    "        next_index = np.arange(self.max_traj_len) + next_state_distance\n",
    "        self.qdataset[\"next_observations\"] = np.concatenate([traj[\"observations\"][next_index[i][:self.traj_lens[i]-self.next_state_distance_max]] for i, traj in enumerate(self.trajs) if self.traj_lens[i] > self.next_state_distance_max], axis=0)\n",
    "        self.qdataset[\"distances_int\"] = np.concatenate([next_state_distance[i][:self.traj_lens[i]-self.next_state_distance_max] for i, traj in enumerate(self.trajs) if self.traj_lens[i] > self.next_state_distance_max])\n",
    "        self.qdataset[\"distances\"] = self.qdataset[\"distances_int\"].astype(np.float32)\n",
    "\n",
    "    def __len__(self):\n",
    "        return len(self.qdataset[\"observations\"])\n",
    "\n",
    "    def __getitem__(self, idx):\n",
    "        return {\n",
    "            'observations': self.qdataset[\"observations\"][idx],\n",
    "            'actions': self.qdataset[\"actions\"][idx],\n",
    "            'next_observations': self.qdataset[\"next_observations\"][idx],\n",
    "            'distances': self.qdataset[\"distances\"][idx],\n",
    "        }\n",
    "\n",
    "all_data = QDataset(trajs, infos)"
   ],
   "metadata": {
    "collapsed": false,
    "ExecuteTime": {
     "end_time": "2025-01-24T21:28:32.647909Z",
     "start_time": "2025-01-24T21:28:32.046988Z"
    }
   },
   "id": "7d6f202e3337b2df",
   "outputs": [],
   "execution_count": 7
  },
  {
   "metadata": {
    "ExecuteTime": {
     "end_time": "2025-01-24T21:28:32.680868Z",
     "start_time": "2025-01-24T21:28:32.669069Z"
    }
   },
   "cell_type": "code",
   "source": [
    "ind = 10\n",
    "assert (all_data.qdataset['observations'][ind + all_data.qdataset['distances_int'][ind]] == all_data.qdataset['next_observations'][ind]).all()"
   ],
   "id": "eb81551d88212f43",
   "outputs": [],
   "execution_count": 8
  },
  {
   "cell_type": "code",
   "source": [
    "class Encoder(nn.Module):\n",
    "    def __init__(self, obs_shape: int, hidden_dim: int, latent_dim: int):\n",
    "        super(Encoder, self).__init__()\n",
    "        self.fc1 = nn.Linear(obs_shape, hidden_dim)\n",
    "        self.fc2 = nn.Linear(hidden_dim, hidden_dim)\n",
    "        self.fc3 = nn.Linear(hidden_dim, hidden_dim)\n",
    "        self.fc4 = nn.Linear(hidden_dim, latent_dim)\n",
    "        self.ln1 = nn.LayerNorm(hidden_dim)\n",
    "        self.ln2 = nn.LayerNorm(hidden_dim)\n",
    "        self.ln3 = nn.LayerNorm(hidden_dim)\n",
    "    \n",
    "    def forward(self, x):\n",
    "        x = F.relu(self.fc1(x))\n",
    "        x = self.ln1(x)\n",
    "        x = F.relu(self.fc2(x))\n",
    "        x = self.ln2(x)\n",
    "        # x = F.relu(self.fc3(x))\n",
    "        # x = self.ln3(x)\n",
    "        return self.fc4(x)\n",
    "\n",
    "class InvModel(nn.Module):\n",
    "    def __init__(self, latent_dim: int, hidden_dim: int, action_shape: int):\n",
    "        super(InvModel, self).__init__()\n",
    "        self.fc1 = nn.Linear(latent_dim*2, hidden_dim)\n",
    "        self.fc2 = nn.Linear(hidden_dim, hidden_dim)\n",
    "        self.fc3 = nn.Linear(hidden_dim, hidden_dim)\n",
    "        self.fc4 = nn.Linear(hidden_dim, action_shape)\n",
    "        self.ln1 = nn.LayerNorm(hidden_dim)\n",
    "        self.ln2 = nn.LayerNorm(hidden_dim)\n",
    "        self.ln3 = nn.LayerNorm(hidden_dim)\n",
    "\n",
    "    def forward(self, x):\n",
    "        x = F.relu(self.fc1(x))\n",
    "        x = self.ln1(x)\n",
    "        x = F.relu(self.fc2(x))\n",
    "        x = self.ln2(x)\n",
    "        # x = F.relu(self.fc3(x))\n",
    "        # x = self.ln3(x)\n",
    "        return self.fc4(x)\n",
    "\n",
    "hidden_dim = 128\n",
    "latent_dim = 16\n",
    "encoder = Encoder(obs_shape=obs_shape, hidden_dim=hidden_dim, latent_dim=latent_dim)\n",
    "target_encoder = Encoder(obs_shape=obs_shape, hidden_dim=hidden_dim, latent_dim=latent_dim)\n",
    "inv_model = InvModel(latent_dim=latent_dim, hidden_dim=hidden_dim, action_shape=action_shape)"
   ],
   "metadata": {
    "collapsed": false,
    "ExecuteTime": {
     "end_time": "2025-01-24T21:28:32.770279Z",
     "start_time": "2025-01-24T21:28:32.730947Z"
    }
   },
   "id": "1af456c6243c75f6",
   "outputs": [],
   "execution_count": 9
  },
  {
   "cell_type": "code",
   "source": [
    "from torch.utils.data import DataLoader\n",
    "from torch.optim import AdamW\n",
    "from torch.optim.lr_scheduler import LambdaLR\n",
    "\n",
    "batch_size = 256\n",
    "target_ema = 0.995\n",
    "epochs = 5\n",
    "train_size = int(0.8 * len(trajs))\n",
    "indices = np.random.permutation(len(trajs))\n",
    "trajs_np = np.array(trajs)\n",
    "train_idx, val_idx = indices[:train_size], indices[train_size:]\n",
    "dataset, val_set = QDataset(trajs_np[train_idx], infos), QDataset(trajs_np[val_idx], infos)\n",
    "\n",
    "dataloader = DataLoader(dataset, batch_size=batch_size, shuffle=True, generator=torch.Generator(device='cuda'))\n",
    "optimizer = AdamW(list(encoder.parameters()) + list(inv_model.parameters()), lr=1e-3)\n",
    "\n",
    "def distance(z, z_next):\n",
    "    return (z - z_next).norm(p=2, dim=-1)\n",
    "\n",
    "def distance_loss(z, z_next, dist):\n",
    "    distance_pred = distance(z, z_next)\n",
    "    return F.mse_loss(distance_pred, dist)\n",
    "\n",
    "def contrastive_loss(z, random_z):\n",
    "    distance_pred = distance(z, random_z)\n",
    "    return (distance_pred - all_data.next_state_distance_max_tensor.expand_as(distance_pred))[distance_pred < all_data.next_state_distance_max_tensor].pow(2).mean()\n",
    "\n",
    "def train_step(batch):\n",
    "    obs = batch['observations']\n",
    "    act = batch['actions']\n",
    "    next_obs = batch['next_observations']\n",
    "    distances = batch['distances']\n",
    "\n",
    "    z = encoder(obs)\n",
    "    with torch.no_grad():\n",
    "        z_next = target_encoder(next_obs)\n",
    "\n",
    "    action_pred = inv_model(torch.cat([z, z_next], dim=-1))\n",
    "    model_loss = distance_loss(z, z_next, distances)\n",
    "    contrastive = contrastive_loss(z, z_next[torch.randperm(len(z))])\n",
    "    action_loss = F.mse_loss(action_pred, act)\n",
    "    loss = model_loss + action_loss + contrastive\n",
    "    \n",
    "    optimizer.zero_grad()\n",
    "    loss.backward()\n",
    "    optimizer.step()\n",
    "    \n",
    "    # Update target encoder with exponential moving average\n",
    "    for param, target_param in zip(encoder.parameters(), target_encoder.parameters()):\n",
    "        target_param.data = target_param.data * target_ema + param.data * (1.0 - target_ema)\n",
    "    \n",
    "    return loss.item(), model_loss.item(), action_loss.item(), contrastive.item()"
   ],
   "metadata": {
    "ExecuteTime": {
     "end_time": "2025-01-24T21:28:33.551616Z",
     "start_time": "2025-01-24T21:28:32.803088Z"
    }
   },
   "id": "9b61d159d65860d1",
   "outputs": [],
   "execution_count": 10
  },
  {
   "metadata": {
    "collapsed": false,
    "ExecuteTime": {
     "end_time": "2025-01-24T21:37:51.421539Z",
     "start_time": "2025-01-24T21:28:33.558728Z"
    }
   },
   "cell_type": "code",
   "source": [
    "losses = []\n",
    "model_losses = []\n",
    "action_losses = []\n",
    "contrastive_losses = []\n",
    "for epoch in range(epochs):\n",
    "    print(f\"Epoch {epoch}\")\n",
    "    for batch in tqdm(dataloader):\n",
    "        loss, model_loss, action_loss, contrastive = train_step(batch)\n",
    "        losses.append(loss)\n",
    "        model_losses.append(model_loss)\n",
    "        action_losses.append(action_loss)\n",
    "        contrastive_losses.append(contrastive)\n",
    "    dataset.reshuffle_next_state_distance()\n"
   ],
   "id": "e5cc62c12f61de52",
   "outputs": [
    {
     "name": "stdout",
     "output_type": "stream",
     "text": [
      "Epoch 0\n"
     ]
    },
    {
     "name": "stderr",
     "output_type": "stream",
     "text": [
      "100%|███████████████████████████████████████████████████████████████████████████████| 3110/3110 [01:54<00:00, 27.25it/s]\n"
     ]
    },
    {
     "name": "stdout",
     "output_type": "stream",
     "text": [
      "Epoch 1\n"
     ]
    },
    {
     "name": "stderr",
     "output_type": "stream",
     "text": [
      "100%|███████████████████████████████████████████████████████████████████████████████| 3110/3110 [01:49<00:00, 28.49it/s]\n"
     ]
    },
    {
     "name": "stdout",
     "output_type": "stream",
     "text": [
      "Epoch 2\n"
     ]
    },
    {
     "name": "stderr",
     "output_type": "stream",
     "text": [
      "100%|███████████████████████████████████████████████████████████████████████████████| 3110/3110 [01:50<00:00, 28.16it/s]\n"
     ]
    },
    {
     "name": "stdout",
     "output_type": "stream",
     "text": [
      "Epoch 3\n"
     ]
    },
    {
     "name": "stderr",
     "output_type": "stream",
     "text": [
      "100%|███████████████████████████████████████████████████████████████████████████████| 3110/3110 [01:51<00:00, 27.79it/s]\n"
     ]
    },
    {
     "name": "stdout",
     "output_type": "stream",
     "text": [
      "Epoch 4\n"
     ]
    },
    {
     "name": "stderr",
     "output_type": "stream",
     "text": [
      "100%|███████████████████████████████████████████████████████████████████████████████| 3110/3110 [01:51<00:00, 27.77it/s]\n"
     ]
    }
   ],
   "execution_count": 11
  },
  {
   "metadata": {
    "ExecuteTime": {
     "end_time": "2025-01-24T21:37:52.241865Z",
     "start_time": "2025-01-24T21:37:51.467037Z"
    }
   },
   "cell_type": "code",
   "source": [
    "import matplotlib.pyplot as plt\n",
    "plt.plot(losses, label='total')\n",
    "plt.legend()\n",
    "plt.show()\n",
    "\n",
    "\n",
    "plt.plot(model_losses[100:], label='model')\n",
    "plt.legend()\n",
    "plt.show()\n",
    "\n",
    "plt.plot(action_losses, label='action')\n",
    "plt.legend()\n",
    "plt.show()\n",
    "\n",
    "plt.plot(contrastive_losses, label='contrastive')\n",
    "plt.legend()\n",
    "plt.show()"
   ],
   "id": "74a6e72258b6f617",
   "outputs": [
    {
     "data": {
      "text/plain": [
       "<Figure size 640x480 with 1 Axes>"
      ],
      "image/png": "[encoded data removed]"
     },
     "metadata": {},
     "output_type": "display_data"
    },
    {
     "data": {
      "text/plain": [
       "<Figure size 640x480 with 1 Axes>"
      ],
      "image/png": "[encoded data removed]"
     },
     "metadata": {},
     "output_type": "display_data"
    },
    {
     "data": {
      "text/plain": [
       "<Figure size 640x480 with 1 Axes>"
      ],
      "image/png": "[encoded data removed]"
     },
     "metadata": {},
     "output_type": "display_data"
    },
    {
     "data": {
      "text/plain": [
       "<Figure size 640x480 with 1 Axes>"
      ],
      "image/png": "[encoded data removed]"
     },
     "metadata": {},
     "output_type": "display_data"
    }
   ],
   "execution_count": 12
  },
  {
   "metadata": {
    "ExecuteTime": {
     "end_time": "2025-01-24T21:39:56.034801Z",
     "start_time": "2025-01-24T21:37:52.286872Z"
    }
   },
   "cell_type": "code",
   "source": [
    "# validate that model is accurate\n",
    "\n",
    "val_set_loader = DataLoader(val_set, batch_size=batch_size, shuffle=True, generator=torch.Generator(device='cuda'))\n",
    "\n",
    "\n",
    "def plot_hists(loader):\n",
    "    model_loss_total = 0\n",
    "    model_loss_shuffle = 0\n",
    "    bins = np.linspace(0, all_data.next_state_distance_max + 2, 100, endpoint=True)\n",
    "    bins = np.concatenate([bins, [10000]])\n",
    "    hists = dict()\n",
    "    with torch.no_grad():\n",
    "        for batch in loader:\n",
    "            z = encoder(batch['observations'])\n",
    "            z_next = encoder(batch['next_observations'])\n",
    "            distances = batch['distances']\n",
    "            distances_pred = distance(z, z_next)\n",
    "            # compute histogram of distances\n",
    "            for i in range(all_data.next_state_distance_min, all_data.next_state_distance_max+1):\n",
    "                hists[i] = hists.get(i, np.zeros_like(bins[:-1]))\n",
    "                hists[i] += np.histogram(distances_pred[distances == i].cpu().numpy(), bins=bins)[0]\n",
    "            hists[\"rand\"] = hists.get(\"rand\", np.zeros_like(bins[:-1]))\n",
    "            hists[\"rand\"] += np.histogram(distance(z, z_next[torch.randperm(len(z))]).cpu().numpy(), bins=bins)[0]\n",
    "\n",
    "            model_loss_total += distance_loss(z, z_next, distances)\n",
    "            model_loss_shuffle += distance_loss(z, z_next[torch.randperm(len(z))], distances)\n",
    "    print(\n",
    "        f\"Model loss: {model_loss_total / len(loader)}\\n\"\n",
    "        f\"Model loss (shuffle): {model_loss_shuffle / len(loader)}\"\n",
    "    )\n",
    "\n",
    "    plotting_bins = np.copy(bins)\n",
    "    plotting_bins[-1] = plotting_bins[-2] + 1\n",
    "    for key, val in hists.items():\n",
    "        if key in set(range(5, 1000)):\n",
    "            continue\n",
    "        val /= np.sum(val)\n",
    "        plt.stairs(val, plotting_bins, label=f\"Distance {key}\")\n",
    "    plt.legend()\n",
    "    plt.ylim(0, 0.1)\n",
    "    plt.show()\n",
    "\n",
    "plot_hists(val_set_loader)\n",
    "plot_hists(dataloader)"
   ],
   "id": "d99e7271b580a7ec",
   "outputs": [
    {
     "name": "stdout",
     "output_type": "stream",
     "text": [
      "Model loss: 2.7405169010162354\n",
      "Model loss (shuffle): 23.75417709350586\n"
     ]
    },
    {
     "data": {
      "text/plain": [
       "<Figure size 640x480 with 1 Axes>"
      ],
      "image/png": "[encoded data removed]"
     },
     "metadata": {},
     "output_type": "display_data"
    },
    {
     "name": "stdout",
     "output_type": "stream",
     "text": [
      "Model loss: 2.727860450744629\n",
      "Model loss (shuffle): 24.047136306762695\n"
     ]
    },
    {
     "data": {
      "text/plain": [
       "<Figure size 640x480 with 1 Axes>"
      ],
      "image/png": "[encoded data removed]"
     },
     "metadata": {},
     "output_type": "display_data"
    }
   ],
   "execution_count": 13
  },
  {
   "cell_type": "code",
   "source": [
    "from pynndescent import NNDescent\n",
    "from dataclasses import dataclass\n",
    "    \n",
    "num_obs = np.sum(infos['traj_lens'])\n",
    "\n",
    "obs_norm = np.zeros((num_obs, latent_dim), dtype=np.float32)\n",
    "z_next = np.zeros((num_obs, latent_dim), dtype=np.float32)\n",
    "\n",
    "returns = np.zeros(num_obs, dtype=np.float32)\n",
    "actions = np.zeros((num_obs, trajs[0]['actions'].shape[1]), dtype=np.float32)\n",
    "\n",
    "next_state_distance = 3\n",
    "ind = 0\n",
    "for traj in tqdm(trajs):\n",
    "    indices = slice(ind, ind+traj['observations'].shape[0] - next_state_distance)\n",
    "    obs = traj['observations']\n",
    "    z = encoder(torch.tensor(obs, dtype=torch.float32)).detach().cpu().numpy()\n",
    "    obs_norm[indices] = z[:-next_state_distance]\n",
    "    z_next[indices] = z[next_state_distance:]\n",
    "    returns[indices] = traj['returns'][:-next_state_distance]\n",
    "    actions[indices] = traj['actions'][:-next_state_distance]\n",
    "    ind += traj['observations'].shape[0] - next_state_distance"
   ],
   "metadata": {
    "ExecuteTime": {
     "end_time": "2025-01-24T21:39:59.689904Z",
     "start_time": "2025-01-24T21:39:56.138966Z"
    }
   },
   "id": "cf948f9f88ecd65e",
   "outputs": [
    {
     "name": "stderr",
     "output_type": "stream",
     "text": [
      "100%|█████████████████████████████████████████████████████████████████████████████| 1000/1000 [00:00<00:00, 1435.45it/s]\n"
     ]
    }
   ],
   "execution_count": 14
  },
  {
   "metadata": {
    "collapsed": false,
    "ExecuteTime": {
     "end_time": "2025-01-24T21:41:09.307255Z",
     "start_time": "2025-01-24T21:39:59.693370Z"
    }
   },
   "cell_type": "code",
   "source": "index = NNDescent(obs_norm, metric='euclidean')",
   "id": "3a71db5b8fb5ae22",
   "outputs": [
    {
     "name": "stderr",
     "output_type": "stream",
     "text": [
      "/home/eop/code/CORL/venv/lib/python3.10/site-packages/numba/np/ufunc/parallel.py:371: NumbaWarning: The TBB threading layer requires TBB version 2021 update 6 or later i.e., TBB_INTERFACE_VERSION >= 12060. Found TBB_INTERFACE_VERSION = 12050. The TBB threading layer is disabled.\n",
      "  warnings.warn(problem)\n"
     ]
    }
   ],
   "execution_count": 15
  },
  {
   "cell_type": "code",
   "source": [
    "from algorithms.offline.knn import wrap_env\n",
    "\n",
    "eval_env = wrap_env(\n",
    "    env=gym.make(env_name),\n",
    "    state_mean=obs_mean,\n",
    "    state_std=obs_std,\n",
    "    reward_scale=1.0,\n",
    ")\n",
    "eval_episodes = 100\n",
    "k=1\n"
   ],
   "metadata": {
    "ExecuteTime": {
     "end_time": "2025-01-24T21:52:20.943387Z",
     "start_time": "2025-01-24T21:52:20.915576Z"
    }
   },
   "id": "303bc0ad45bae283",
   "outputs": [],
   "execution_count": 20
  },
  {
   "metadata": {
    "ExecuteTime": {
     "end_time": "2025-01-24T21:54:27.354079Z",
     "start_time": "2025-01-24T21:54:27.328313Z"
    }
   },
   "cell_type": "code",
   "source": [
    "idx, dist = index.query(eval_env.reset(), k=500)\n",
    "idx.shape, idx, dist"
   ],
   "id": "e5c869e7524220e7",
   "outputs": [
    {
     "data": {
      "text/plain": [
       "((1, 500),\n",
       " array([[757222, 280078, 720223, 150424, 565268, 196845, 385453, 699589,\n",
       "         723377, 699590,  80703,  55019, 175773, 716225, 382055, 847638,\n",
       "         835669, 470981, 559090, 527208, 175774, 652906, 690623, 529140,\n",
       "          64579, 175771, 230483, 738327,  90848, 324946, 527207, 604897,\n",
       "         527206, 656396,  90849, 499281, 888703, 436798, 723378, 305491,\n",
       "         546035, 156082, 716663, 699591, 304049, 527209, 565269, 847635,\n",
       "         710147, 305490, 699592, 448300, 846816, 272759, 364501, 385454,\n",
       "         488633, 765062, 196847, 643392, 128800, 724175, 727521, 865939,\n",
       "         461302, 966185, 381129,  38081, 906461, 559091, 980260, 476700,\n",
       "         490030, 823738, 727520,  77134, 990673, 592773, 880430, 864279,\n",
       "         361389, 159366, 753610, 196846, 639758, 568817, 950925, 395109,\n",
       "         607059, 563947, 847639, 888702, 312994, 563302,  27613, 653238,\n",
       "         805486, 369647, 847640, 675713, 711743, 970909, 253884, 800339,\n",
       "         875981,  77874, 947084, 142308, 552749,  17888, 168812, 341250,\n",
       "         840466, 588497, 249940, 751180, 963264, 821433, 823737, 753886,\n",
       "         720224, 724174, 230484, 324900,  49706, 295684,  77875, 659522,\n",
       "         101267, 138860, 455399, 196844, 307310, 617813, 863198, 341187,\n",
       "         694264, 475754, 380093, 981358, 807854, 470971, 622115, 382056,\n",
       "         327488, 696695, 258549, 634482,  24884, 576223, 319717, 934087,\n",
       "         287543, 270001, 173610, 272590, 324899, 576224, 877998, 201952,\n",
       "         710717, 273112, 127004, 987627, 821434,  20566,  18441, 537047,\n",
       "         576499, 305489, 766488, 947989,  66583, 581710, 175772, 198966,\n",
       "          62402, 297980, 689890, 775945, 699588, 905384, 758689, 270000,\n",
       "         155075, 307311, 912655, 259873,  79532, 704449, 546609, 928205,\n",
       "         846815, 334453, 294765, 831585, 475755, 255692, 101268, 429181,\n",
       "         242089, 931184, 758943, 880833,  88425, 468452, 527210, 633357,\n",
       "         706466, 368793, 987626, 531848, 527704, 867205, 149958, 216723,\n",
       "         698742, 726297, 423034, 227078, 879820, 214578, 612740, 785719,\n",
       "         176418, 631406, 142309, 694134, 494433, 572967, 875980, 323717,\n",
       "         753609, 522182,  61670, 422379,  15120, 978938, 963263, 342962,\n",
       "         711744, 758201, 240954, 874172, 498011,  66325, 858921, 573251,\n",
       "         684416, 825707,  95568, 917908, 408267, 334452,  92911, 624873,\n",
       "         455398, 753214, 165879, 551146, 704450, 794972, 622114, 988507,\n",
       "         464773, 696696, 753885, 887622, 290346,  31144, 720222, 337933,\n",
       "         581711, 462701, 939156, 950924, 112041,  82661,  70920, 624872,\n",
       "         335476, 459355, 730171, 855884, 813102, 720584,  38765, 248851,\n",
       "          57177, 140039, 825708, 981357, 165878, 547806, 557942,  59750,\n",
       "          26110, 898611,  46570, 554969, 594666, 845915, 168811, 989842,\n",
       "         966184, 149959, 925997, 325131, 568818, 775927,   2456, 556605,\n",
       "         199618, 369646, 814481, 294286, 572576, 852201, 468451, 916677,\n",
       "         792446, 817627, 867733, 235587, 734274, 867204, 754370, 969409,\n",
       "         598379, 488634, 128997, 476330, 204277, 916364, 995710, 362292,\n",
       "         231185, 802188, 301358, 448299, 185193, 475406,  92871,  80614,\n",
       "         934953, 652907, 531849, 947085, 510644, 760264,  63179, 184911,\n",
       "         564866, 185194, 751694, 215447, 691387, 187730, 476701, 203172,\n",
       "         154233, 156379, 420995, 305470, 944632, 447970, 939783, 724300,\n",
       "          92912,  15031, 838618, 801450, 691388,  23698, 894232,  66357,\n",
       "         410654, 559013, 589905, 515662, 392809, 834953, 791121, 437533,\n",
       "         478101,  51587, 691184, 251546, 193824, 606461, 865940, 681361,\n",
       "         585375, 140715,  47275,  39851,  61671, 821703, 880432, 847636,\n",
       "          26827, 493296, 898087, 467789, 852202, 208977, 479332, 866540,\n",
       "         908379, 335505, 860137, 609594, 460893, 382323, 130743, 353146,\n",
       "         574599, 684615, 987386, 810257, 426653, 694534, 546610, 255693,\n",
       "         292334, 432093,   4397, 547807,  48104, 720472, 211577, 479331,\n",
       "         567999, 567265, 988868, 177149, 996198, 586410, 946042, 928195,\n",
       "         736126, 693804, 530844, 672278, 484162, 629957, 424560,  71883,\n",
       "         140833, 522183, 110989, 516332, 249941, 735224, 287542,  56399,\n",
       "         882162, 177333, 488632, 276281, 560743, 843092,  92664, 694535,\n",
       "         375403, 877331, 627818, 129070, 588961, 128996, 592439, 173611,\n",
       "         257136,  72391, 979176, 924611, 939155,  37094, 377288,  92665,\n",
       "         219767, 205995, 704776, 898771, 981476, 716197, 175775, 200642,\n",
       "         558048,  69427, 715242, 768047, 177780, 186566, 809106, 322589,\n",
       "          88869, 473238, 765420, 384223]], dtype=int32),\n",
       " array([[6.410536 , 6.555459 , 6.5654464, 6.592673 , 6.652288 , 6.705167 ,\n",
       "         6.757683 , 6.7938876, 6.812273 , 6.8390226, 6.8397017, 6.846561 ,\n",
       "         6.9000483, 6.937937 , 6.9416146, 6.9627104, 6.980044 , 6.981278 ,\n",
       "         6.992669 , 7.0046334, 7.007607 , 7.025713 , 7.0290995, 7.052882 ,\n",
       "         7.0542393, 7.06313  , 7.06457  , 7.068235 , 7.0711217, 7.0720935,\n",
       "         7.0724316, 7.075937 , 7.0765758, 7.077532 , 7.078563 , 7.0787926,\n",
       "         7.0804043, 7.0812263, 7.082194 , 7.085387 , 7.091754 , 7.096492 ,\n",
       "         7.0980453, 7.1026535, 7.1045446, 7.105949 , 7.107336 , 7.1160693,\n",
       "         7.1217175, 7.126221 , 7.1456723, 7.146707 , 7.150958 , 7.154231 ,\n",
       "         7.1563735, 7.158114 , 7.1589622, 7.16117  , 7.166341 , 7.1665587,\n",
       "         7.173936 , 7.1862736, 7.1914697, 7.1933956, 7.194754 , 7.1958404,\n",
       "         7.2019806, 7.2028065, 7.2047234, 7.2053547, 7.2054443, 7.2063932,\n",
       "         7.2085586, 7.2129273, 7.2204995, 7.2225933, 7.2236767, 7.2288327,\n",
       "         7.231644 , 7.2322555, 7.233517 , 7.233849 , 7.234298 , 7.235697 ,\n",
       "         7.237576 , 7.2382016, 7.23881  , 7.2392592, 7.2397027, 7.240014 ,\n",
       "         7.243114 , 7.243183 , 7.2443643, 7.24741  , 7.2483454, 7.2501564,\n",
       "         7.250618 , 7.2506657, 7.2536306, 7.2546716, 7.256093 , 7.2634244,\n",
       "         7.264095 , 7.2646065, 7.2655735, 7.266989 , 7.2680273, 7.268739 ,\n",
       "         7.2700706, 7.2706738, 7.270736 , 7.273119 , 7.2734704, 7.2737565,\n",
       "         7.2743874, 7.27569  , 7.277717 , 7.2780185, 7.2781506, 7.2807975,\n",
       "         7.2810225, 7.281362 , 7.2832146, 7.2850056, 7.285054 , 7.2852416,\n",
       "         7.2868104, 7.2877874, 7.2883754, 7.290395 , 7.293222 , 7.2958665,\n",
       "         7.296225 , 7.2974195, 7.2989674, 7.300582 , 7.3009715, 7.3014092,\n",
       "         7.3023043, 7.302636 , 7.302768 , 7.3028636, 7.3038826, 7.3047867,\n",
       "         7.304935 , 7.305774 , 7.307642 , 7.3077307, 7.310131 , 7.310634 ,\n",
       "         7.3107862, 7.310834 , 7.3117294, 7.3117704, 7.311953 , 7.312376 ,\n",
       "         7.3129587, 7.312981 , 7.3131104, 7.313457 , 7.3139353, 7.3142967,\n",
       "         7.314391 , 7.3148613, 7.3149314, 7.3159413, 7.3159924, 7.3161   ,\n",
       "         7.3165097, 7.316623 , 7.3167834, 7.3169236, 7.317068 , 7.3173337,\n",
       "         7.317832 , 7.318488 , 7.3194413, 7.3194423, 7.3195505, 7.320943 ,\n",
       "         7.322484 , 7.3239837, 7.3248606, 7.325393 , 7.325416 , 7.325672 ,\n",
       "         7.326918 , 7.327582 , 7.3286195, 7.3293815, 7.3308926, 7.3316827,\n",
       "         7.3325543, 7.3328953, 7.332937 , 7.3348546, 7.3349185, 7.3351083,\n",
       "         7.3368707, 7.337772 , 7.338081 , 7.3383727, 7.338542 , 7.3394237,\n",
       "         7.340388 , 7.3412943, 7.3415027, 7.341601 , 7.3438296, 7.3441677,\n",
       "         7.345388 , 7.346282 , 7.3471627, 7.3472075, 7.347482 , 7.347527 ,\n",
       "         7.3475842, 7.3476543, 7.3479385, 7.34822  , 7.348757 , 7.3490124,\n",
       "         7.349607 , 7.3512836, 7.3523045, 7.353037 , 7.3535585, 7.3536487,\n",
       "         7.355287 , 7.356799 , 7.3573794, 7.3584833, 7.358937 , 7.3590016,\n",
       "         7.3591094, 7.359558 , 7.3607593, 7.361798 , 7.3628006, 7.3629475,\n",
       "         7.363992 , 7.365628 , 7.36575  , 7.366144 , 7.366547 , 7.366766 ,\n",
       "         7.367024 , 7.368347 , 7.3684087, 7.3688035, 7.3688493, 7.36943  ,\n",
       "         7.369561 , 7.369757 , 7.3701644, 7.3705697, 7.3714066, 7.371862 ,\n",
       "         7.3720117, 7.3723984, 7.373425 , 7.373765 , 7.374267 , 7.375331 ,\n",
       "         7.375515 , 7.3762736, 7.3773556, 7.37831  , 7.37838  , 7.378575 ,\n",
       "         7.378776 , 7.3789673, 7.379272 , 7.3801227, 7.382184 , 7.3824673,\n",
       "         7.3827615, 7.3828497, 7.383253 , 7.384133 , 7.384315 , 7.3844557,\n",
       "         7.3846183, 7.384672 , 7.3848987, 7.385681 , 7.385929 , 7.388015 ,\n",
       "         7.3886333, 7.388653 , 7.3891597, 7.3895383, 7.389769 , 7.391211 ,\n",
       "         7.39132  , 7.3916736, 7.3920984, 7.392633 , 7.3927975, 7.3930535,\n",
       "         7.394572 , 7.3945966, 7.3950257, 7.3953424, 7.395693 , 7.3957434,\n",
       "         7.395989 , 7.3961515, 7.396254 , 7.3968635, 7.397305 , 7.397532 ,\n",
       "         7.3988914, 7.3989882, 7.399095 , 7.3992395, 7.4008923, 7.4013243,\n",
       "         7.4016414, 7.402555 , 7.402845 , 7.403005 , 7.403093 , 7.4034705,\n",
       "         7.4041924, 7.4042635, 7.404526 , 7.404612 , 7.4049673, 7.4049726,\n",
       "         7.4055133, 7.4059277, 7.4063296, 7.4067187, 7.406939 , 7.4072547,\n",
       "         7.4077916, 7.4078326, 7.409357 , 7.4093995, 7.409478 , 7.41008  ,\n",
       "         7.410597 , 7.411673 , 7.411941 , 7.4122887, 7.4132743, 7.4136343,\n",
       "         7.413723 , 7.414053 , 7.4143476, 7.415426 , 7.4154816, 7.4156528,\n",
       "         7.4160237, 7.4163113, 7.417049 , 7.417073 , 7.4173684, 7.4186206,\n",
       "         7.4191523, 7.4193735, 7.4194746, 7.4198055, 7.419878 , 7.4199266,\n",
       "         7.4201326, 7.4202666, 7.4211063, 7.4213066, 7.421959 , 7.422627 ,\n",
       "         7.4226727, 7.423215 , 7.4241166, 7.4244514, 7.4244986, 7.42487  ,\n",
       "         7.426482 , 7.426588 , 7.4268293, 7.4270887, 7.4277644, 7.427931 ,\n",
       "         7.429069 , 7.4310374, 7.43114  , 7.4312544, 7.433127 , 7.4332027,\n",
       "         7.433603 , 7.4336567, 7.4342017, 7.434319 , 7.434973 , 7.4355025,\n",
       "         7.4359074, 7.436014 , 7.4362235, 7.436627 , 7.437022 , 7.4370418,\n",
       "         7.437525 , 7.4376273, 7.4377275, 7.4380174, 7.438989 , 7.4393177,\n",
       "         7.441063 , 7.4412956, 7.442153 , 7.4423747, 7.442779 , 7.442963 ,\n",
       "         7.4432817, 7.443333 , 7.443531 , 7.4436955, 7.4438696, 7.444216 ,\n",
       "         7.4444675, 7.444543 , 7.444686 , 7.4447694, 7.4449334, 7.4454236,\n",
       "         7.446584 , 7.446695 , 7.4469047, 7.4473515, 7.4475417, 7.4478836,\n",
       "         7.4480753, 7.449453 , 7.449736 , 7.44986  , 7.450068 , 7.450094 ,\n",
       "         7.450338 , 7.4508166, 7.451005 , 7.451365 , 7.4517965, 7.451975 ,\n",
       "         7.451981 , 7.4523196, 7.452325 , 7.4525647, 7.453494 , 7.453662 ,\n",
       "         7.4538693, 7.454995 , 7.455094 , 7.4554653, 7.4556823, 7.4558096,\n",
       "         7.4571104, 7.457532 , 7.4575844, 7.4588203, 7.4599404, 7.460911 ,\n",
       "         7.461049 , 7.4617763, 7.4619455, 7.4619913, 7.462254 , 7.462384 ,\n",
       "         7.4628696, 7.462961 , 7.4631066, 7.4637675, 7.464047 , 7.464725 ,\n",
       "         7.4647474, 7.465129 , 7.465155 , 7.4658957, 7.4662347, 7.4671035,\n",
       "         7.467278 , 7.469512 , 7.469813 , 7.470477 , 7.4708805, 7.471192 ,\n",
       "         7.4716682, 7.4717164, 7.4717574, 7.472105 , 7.4721785, 7.472668 ,\n",
       "         7.4732227, 7.4743643, 7.474883 , 7.474906 , 7.475533 , 7.4756317,\n",
       "         7.4756374, 7.4757075]], dtype=float32))"
      ]
     },
     "execution_count": 27,
     "metadata": {},
     "output_type": "execute_result"
    }
   ],
   "execution_count": 27
  },
  {
   "metadata": {
    "collapsed": false,
    "ExecuteTime": {
     "end_time": "2025-01-24T21:47:50.127971Z",
     "start_time": "2025-01-24T21:46:39.745112Z"
    }
   },
   "cell_type": "code",
   "outputs": [
    {
     "name": "stderr",
     "output_type": "stream",
     "text": [
      "                                                                                                                        \r"
     ]
    },
    {
     "data": {
      "text/plain": [
       "(58.082798918874644, 2.724582168323374)"
      ]
     },
     "execution_count": 19,
     "metadata": {},
     "output_type": "execute_result"
    }
   ],
   "execution_count": 19,
   "source": [
    "\n",
    "def eval():\n",
    "    obs = eval_env.reset()\n",
    "    done = False\n",
    "    total_reward = 0.0\n",
    "    while not done:\n",
    "        z = encoder(torch.tensor(obs, dtype=torch.float32).unsqueeze(0)).detach().cpu().numpy()\n",
    "        idxs, dists = index.query(z[0], k=k)\n",
    "        neighbor_rets = returns[idxs]\n",
    "        ranks = neighbor_rets * np.exp(-1 * dists)\n",
    "        best_idx = idxs[0, np.argmax(ranks)]\n",
    "\n",
    "        action = actions[best_idx]\n",
    "        obs, reward, done, _ = eval_env.step(action)\n",
    "        total_reward += reward\n",
    "    return total_reward\n",
    "\n",
    "\n",
    "eval_rets = [eval() for _ in trange(eval_episodes, desc=\"Evaluation\", leave=False)]\n",
    "np.mean(eval_rets), env.get_normalized_score(np.mean(eval_rets)) * 100.0"
   ],
   "id": "8fa1b28ee74f319c"
  },
  {
   "cell_type": "code",
   "source": [
    "def eval_inv_model():\n",
    "    obs = eval_env.reset()\n",
    "    done = False\n",
    "    total_reward = 0.0\n",
    "    while not done:\n",
    "        z = encoder(torch.tensor(obs, dtype=torch.float32).unsqueeze(0)).detach().cpu().numpy()[0]\n",
    "        idxs, dists = index.query(z, k=k)\n",
    "        neighbor_rets = returns[idxs]\n",
    "        ranks = neighbor_rets * np.exp(-1 * dists)\n",
    "        best_idx = idxs[0, np.argmax(ranks)]\n",
    "\n",
    "        action = inv_model(torch.tensor(np.concatenate([z, z_next[best_idx][None,:]], axis=-1), dtype=torch.float32).unsqueeze(0)).detach().cpu().numpy()\n",
    "        obs, reward, done, _ = eval_env.step(action.squeeze())\n",
    "        total_reward += reward\n",
    "    return total_reward\n",
    "\n",
    "\n",
    "eval_rets_inv = [eval_inv_model() for _ in trange(eval_episodes, desc=\"Evaluation\", leave=False)]\n",
    "np.mean(eval_rets_inv), env.get_normalized_score(np.mean(eval_rets_inv)) * 100.0"
   ],
   "metadata": {
    "collapsed": false,
    "ExecuteTime": {
     "end_time": "2025-01-24T21:46:27.115415Z",
     "start_time": "2025-01-24T21:43:47.715556Z"
    }
   },
   "id": "f7cb9fd3758c4a96",
   "outputs": [
    {
     "name": "stderr",
     "output_type": "stream",
     "text": [
      "                                                                                                                        \r"
     ]
    },
    {
     "data": {
      "text/plain": [
       "(-284.9192941391744, -0.03818181886157146)"
      ]
     },
     "execution_count": 18,
     "metadata": {},
     "output_type": "execute_result"
    }
   ],
   "execution_count": 18
  },
  {
   "cell_type": "code",
   "source": "",
   "metadata": {
    "collapsed": false,
    "ExecuteTime": {
     "end_time": "2025-01-24T21:56:18.599611Z",
     "start_time": "2025-01-24T21:56:18.579638Z"
    }
   },
   "id": "2fde76f09220764c",
   "outputs": [
    {
     "data": {
      "text/plain": [
       "0.0007465858083766792"
      ]
     },
     "execution_count": 29,
     "metadata": {},
     "output_type": "execute_result"
    }
   ],
   "execution_count": 29
  },
  {
   "metadata": {
    "ExecuteTime": {
     "end_time": "2025-01-24T21:46:27.208764Z",
     "start_time": "2025-01-24T21:46:27.205547Z"
    }
   },
   "cell_type": "code",
   "source": "",
   "id": "6288fbe3492159a1",
   "outputs": [],
   "execution_count": null
  }
 ],
 "metadata": {
  "kernelspec": {
   "display_name": "Python 3",
   "language": "python",
   "name": "python3"
  },
  "language_info": {
   "codemirror_mode": {
    "name": "ipython",
    "version": 2
   },
   "file_extension": ".py",
   "mimetype": "text/x-python",
   "name": "python",
   "nbconvert_exporter": "python",
   "pygments_lexer": "ipython2",
   "version": "2.7.6"
  }
 },
 "nbformat": 4,
 "nbformat_minor": 5
}
