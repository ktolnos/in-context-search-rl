{
 "cells": [
  {
   "cell_type": "code",
   "id": "initial_id",
   "metadata": {
    "collapsed": true,
    "ExecuteTime": {
     "end_time": "2025-01-30T22:48:13.913099Z",
     "start_time": "2025-01-30T22:48:13.884197Z"
    }
   },
   "source": [
    "import tqdm\n",
    "\n",
    "%load_ext autoreload\n",
    "%autoreload 2\n",
    "import sys\n",
    "import os\n",
    "import wandb\n",
    "import pandas as pd\n",
    "import numpy as np\n",
    "from plot_config import groups_to_plot, datasets_in_use\n",
    "\n",
    "sys.executable"
   ],
   "outputs": [
    {
     "name": "stdout",
     "output_type": "stream",
     "text": [
      "The autoreload extension is already loaded. To reload it, use:\n",
      "  %reload_ext autoreload\n"
     ]
    },
    {
     "data": {
      "text/plain": [
       "'/home/eop/code/CORL/venv/bin/python'"
      ]
     },
     "execution_count": 34,
     "metadata": {},
     "output_type": "execute_result"
    }
   ],
   "execution_count": 34
  },
  {
   "metadata": {
    "ExecuteTime": {
     "end_time": "2025-01-30T22:48:23.843556Z",
     "start_time": "2025-01-30T22:48:23.622754Z"
    }
   },
   "cell_type": "code",
   "source": [
    "api = wandb.Api(timeout=29)\n",
    "scores = dict()\n",
    "\n",
    "for group in groups_to_plot:\n",
    "    scores[group] = dict()\n",
    "    scores[group + \"_inv\"] = dict()\n",
    "    runs = api.runs(path=\"distill-llms/CORL\", filters={\"group\": group})\n",
    "    for run in runs:\n",
    "        try:\n",
    "            scores[group][run.config['_content']['env']] = [[run.summary[\"eval/normalized_return\"]]]\n",
    "            scores[group + \"_inv\"][run.config['_content']['env']] = [[run.summary[\"eval/normalized_return_inv\"]]]\n",
    "        except KeyError:\n",
    "            pass\n",
    "scores\n"
   ],
   "id": "eb11ce53e992e108",
   "outputs": [
    {
     "data": {
      "text/plain": [
       "{'5step-2epoch': {'relocate-cloned-v1': [[0.04173754007110091]],\n",
       "  'maze2d-umaze-v1': [[77.32048402289689]],\n",
       "  'hammer-cloned-v1': [[27.88150916803106]],\n",
       "  'walker2d-medium-v2': [[69.29151044661991]],\n",
       "  'door-cloned-v1': [[0.2336057198326983]],\n",
       "  'halfcheetah-medium-v2': [[40.65392198501322]],\n",
       "  'pen-human-v1': [[69.76335607532883]],\n",
       "  'halfcheetah-medium-replay-v2': [[27.383353265957737]],\n",
       "  'pen-cloned-v1': [[109.92838087879947]],\n",
       "  'halfcheetah-medium-expert-v2': [[56.748357078037245]],\n",
       "  'hopper-medium-v2': [[51.985135424838035]],\n",
       "  'pen-expert-v1': [[149.41711669045625]]},\n",
       " '5step-2epoch_inv': {'relocate-cloned-v1': [[0.11768783580227152]],\n",
       "  'maze2d-umaze-v1': [[101.4056952394754]],\n",
       "  'hammer-cloned-v1': [[1.0075817246166]],\n",
       "  'walker2d-medium-v2': [[71.14064530458155]],\n",
       "  'door-cloned-v1': [[-0.006988328384232945]],\n",
       "  'halfcheetah-medium-v2': [[41.58136056944664]],\n",
       "  'pen-human-v1': [[-2.5123374670589427]],\n",
       "  'halfcheetah-medium-replay-v2': [[31.08352807383977]],\n",
       "  'pen-cloned-v1': [[68.34612094027061]],\n",
       "  'halfcheetah-medium-expert-v2': [[77.67488408246193]],\n",
       "  'hopper-medium-v2': [[49.0838669174647]],\n",
       "  'pen-expert-v1': [[114.4230916900085]]}}"
      ]
     },
     "execution_count": 35,
     "metadata": {},
     "output_type": "execute_result"
    }
   ],
   "execution_count": 35
  },
  {
   "metadata": {
    "ExecuteTime": {
     "end_time": "2025-01-30T22:48:30.281770Z",
     "start_time": "2025-01-30T22:48:30.269147Z"
    }
   },
   "cell_type": "code",
   "source": [
    "for score in scores:\n",
    "    for dataset in datasets_in_use:\n",
    "        if dataset not in scores[score]:\n",
    "            scores[score][dataset] = [[np.nan]]\n",
    "\n",
    "scores"
   ],
   "id": "b183e91b2fde17dd",
   "outputs": [
    {
     "data": {
      "text/plain": [
       "{'5step-2epoch': {'relocate-cloned-v1': [[0.04173754007110091]],\n",
       "  'maze2d-umaze-v1': [[77.32048402289689]],\n",
       "  'hammer-cloned-v1': [[27.88150916803106]],\n",
       "  'walker2d-medium-v2': [[69.29151044661991]],\n",
       "  'door-cloned-v1': [[0.2336057198326983]],\n",
       "  'halfcheetah-medium-v2': [[40.65392198501322]],\n",
       "  'pen-human-v1': [[69.76335607532883]],\n",
       "  'halfcheetah-medium-replay-v2': [[27.383353265957737]],\n",
       "  'pen-cloned-v1': [[109.92838087879947]],\n",
       "  'halfcheetah-medium-expert-v2': [[56.748357078037245]],\n",
       "  'hopper-medium-v2': [[51.985135424838035]],\n",
       "  'pen-expert-v1': [[149.41711669045625]],\n",
       "  'maze2d-large-v1': [[nan]],\n",
       "  'antmaze-large-play-v2': [[nan]],\n",
       "  'antmaze-umaze-v2': [[nan]]},\n",
       " '5step-2epoch_inv': {'relocate-cloned-v1': [[0.11768783580227152]],\n",
       "  'maze2d-umaze-v1': [[101.4056952394754]],\n",
       "  'hammer-cloned-v1': [[1.0075817246166]],\n",
       "  'walker2d-medium-v2': [[71.14064530458155]],\n",
       "  'door-cloned-v1': [[-0.006988328384232945]],\n",
       "  'halfcheetah-medium-v2': [[41.58136056944664]],\n",
       "  'pen-human-v1': [[-2.5123374670589427]],\n",
       "  'halfcheetah-medium-replay-v2': [[31.08352807383977]],\n",
       "  'pen-cloned-v1': [[68.34612094027061]],\n",
       "  'halfcheetah-medium-expert-v2': [[77.67488408246193]],\n",
       "  'hopper-medium-v2': [[49.0838669174647]],\n",
       "  'pen-expert-v1': [[114.4230916900085]],\n",
       "  'maze2d-large-v1': [[nan]],\n",
       "  'antmaze-large-play-v2': [[nan]],\n",
       "  'antmaze-umaze-v2': [[nan]]}}"
      ]
     },
     "execution_count": 36,
     "metadata": {},
     "output_type": "execute_result"
    }
   ],
   "execution_count": 36
  },
  {
   "metadata": {
    "ExecuteTime": {
     "end_time": "2025-01-30T22:48:32.583749Z",
     "start_time": "2025-01-30T22:48:32.571659Z"
    }
   },
   "cell_type": "code",
   "source": [
    "import pickle\n",
    "\n",
    "\n",
    "with open(\"bin/myscores.pkl\", \"wb\") as f:\n",
    "    pickle.dump(scores, f)"
   ],
   "id": "809213dd1d2d0765",
   "outputs": [],
   "execution_count": 37
  },
  {
   "metadata": {},
   "cell_type": "code",
   "outputs": [],
   "execution_count": null,
   "source": "",
   "id": "cbe80d8fc48d93ca"
  }
 ],
 "metadata": {
  "kernelspec": {
   "display_name": "Python 3",
   "language": "python",
   "name": "python3"
  },
  "language_info": {
   "codemirror_mode": {
    "name": "ipython",
    "version": 2
   },
   "file_extension": ".py",
   "mimetype": "text/x-python",
   "name": "python",
   "nbconvert_exporter": "python",
   "pygments_lexer": "ipython2",
   "version": "2.7.6"
  }
 },
 "nbformat": 4,
 "nbformat_minor": 5
}
